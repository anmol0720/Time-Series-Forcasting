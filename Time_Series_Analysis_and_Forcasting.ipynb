{
  "nbformat": 4,
  "nbformat_minor": 0,
  "metadata": {
    "colab": {
      "name": "Time Series Analysis and Forcasting",
      "provenance": [],
      "collapsed_sections": [],
      "toc_visible": true,
      "include_colab_link": true
    },
    "kernelspec": {
      "display_name": "Python 3",
      "name": "python3"
    }
  },
  "cells": [
    {
      "cell_type": "markdown",
      "metadata": {
        "id": "view-in-github",
        "colab_type": "text"
      },
      "source": [
        "<a href=\"https://colab.research.google.com/github/anmol0720/Time-Series-Forcasting/blob/master/Time_Series_Analysis_and_Forcasting.ipynb\" target=\"_parent\"><img src=\"https://colab.research.google.com/assets/colab-badge.svg\" alt=\"Open In Colab\"/></a>"
      ]
    },
    {
      "cell_type": "code",
      "metadata": {
        "id": "tNiUDJc3iblL",
        "colab_type": "code",
        "colab": {}
      },
      "source": [
        "import pandas as pd"
      ],
      "execution_count": 0,
      "outputs": []
    },
    {
      "cell_type": "code",
      "metadata": {
        "id": "KlAtyt1DidsT",
        "colab_type": "code",
        "colab": {}
      },
      "source": [
        "dataframe=pd.read_csv(\"daily-total-female-births-CA.csv\",header=0)"
      ],
      "execution_count": 0,
      "outputs": []
    },
    {
      "cell_type": "code",
      "metadata": {
        "id": "ON-SBzqpjcX0",
        "colab_type": "code",
        "outputId": "63e62198-3f15-4cd4-dd6d-bbb07691eb4a",
        "colab": {
          "base_uri": "https://localhost:8080/",
          "height": 195
        }
      },
      "source": [
        "dataframe.head()"
      ],
      "execution_count": 5,
      "outputs": [
        {
          "output_type": "execute_result",
          "data": {
            "text/html": [
              "<div>\n",
              "<style scoped>\n",
              "    .dataframe tbody tr th:only-of-type {\n",
              "        vertical-align: middle;\n",
              "    }\n",
              "\n",
              "    .dataframe tbody tr th {\n",
              "        vertical-align: top;\n",
              "    }\n",
              "\n",
              "    .dataframe thead th {\n",
              "        text-align: right;\n",
              "    }\n",
              "</style>\n",
              "<table border=\"1\" class=\"dataframe\">\n",
              "  <thead>\n",
              "    <tr style=\"text-align: right;\">\n",
              "      <th></th>\n",
              "      <th>date</th>\n",
              "      <th>births</th>\n",
              "    </tr>\n",
              "  </thead>\n",
              "  <tbody>\n",
              "    <tr>\n",
              "      <th>0</th>\n",
              "      <td>1959-01-01</td>\n",
              "      <td>35</td>\n",
              "    </tr>\n",
              "    <tr>\n",
              "      <th>1</th>\n",
              "      <td>1959-01-02</td>\n",
              "      <td>32</td>\n",
              "    </tr>\n",
              "    <tr>\n",
              "      <th>2</th>\n",
              "      <td>1959-01-03</td>\n",
              "      <td>30</td>\n",
              "    </tr>\n",
              "    <tr>\n",
              "      <th>3</th>\n",
              "      <td>1959-01-04</td>\n",
              "      <td>31</td>\n",
              "    </tr>\n",
              "    <tr>\n",
              "      <th>4</th>\n",
              "      <td>1959-01-05</td>\n",
              "      <td>44</td>\n",
              "    </tr>\n",
              "  </tbody>\n",
              "</table>\n",
              "</div>"
            ],
            "text/plain": [
              "         date  births\n",
              "0  1959-01-01      35\n",
              "1  1959-01-02      32\n",
              "2  1959-01-03      30\n",
              "3  1959-01-04      31\n",
              "4  1959-01-05      44"
            ]
          },
          "metadata": {
            "tags": []
          },
          "execution_count": 5
        }
      ]
    },
    {
      "cell_type": "code",
      "metadata": {
        "id": "HGAbQbhxj-iN",
        "colab_type": "code",
        "outputId": "f883e399-d5d6-4553-849a-0972dccf3638",
        "colab": {
          "base_uri": "https://localhost:8080/",
          "height": 34
        }
      },
      "source": [
        "#System is treating dates here as objects or strings\n",
        "dataframe['date'].dtype"
      ],
      "execution_count": 6,
      "outputs": [
        {
          "output_type": "execute_result",
          "data": {
            "text/plain": [
              "dtype('O')"
            ]
          },
          "metadata": {
            "tags": []
          },
          "execution_count": 6
        }
      ]
    },
    {
      "cell_type": "markdown",
      "metadata": {
        "id": "BmLUAyk0kPV2",
        "colab_type": "text"
      },
      "source": [
        "To let the system identify dates as dates"
      ]
    },
    {
      "cell_type": "code",
      "metadata": {
        "id": "GkmuoLhpkVtf",
        "colab_type": "code",
        "colab": {}
      },
      "source": [
        "#[0] because we have date at our first column\n",
        "df2=pd.read_csv(\"daily-total-female-births-CA.csv\",header=0,parse_dates=[0])"
      ],
      "execution_count": 0,
      "outputs": []
    },
    {
      "cell_type": "code",
      "metadata": {
        "id": "dUWPQ5Jrk0PV",
        "colab_type": "code",
        "outputId": "59776f03-523a-4056-b56a-4d4636c7672b",
        "colab": {
          "base_uri": "https://localhost:8080/",
          "height": 195
        }
      },
      "source": [
        "df2.head()"
      ],
      "execution_count": 8,
      "outputs": [
        {
          "output_type": "execute_result",
          "data": {
            "text/html": [
              "<div>\n",
              "<style scoped>\n",
              "    .dataframe tbody tr th:only-of-type {\n",
              "        vertical-align: middle;\n",
              "    }\n",
              "\n",
              "    .dataframe tbody tr th {\n",
              "        vertical-align: top;\n",
              "    }\n",
              "\n",
              "    .dataframe thead th {\n",
              "        text-align: right;\n",
              "    }\n",
              "</style>\n",
              "<table border=\"1\" class=\"dataframe\">\n",
              "  <thead>\n",
              "    <tr style=\"text-align: right;\">\n",
              "      <th></th>\n",
              "      <th>date</th>\n",
              "      <th>births</th>\n",
              "    </tr>\n",
              "  </thead>\n",
              "  <tbody>\n",
              "    <tr>\n",
              "      <th>0</th>\n",
              "      <td>1959-01-01</td>\n",
              "      <td>35</td>\n",
              "    </tr>\n",
              "    <tr>\n",
              "      <th>1</th>\n",
              "      <td>1959-01-02</td>\n",
              "      <td>32</td>\n",
              "    </tr>\n",
              "    <tr>\n",
              "      <th>2</th>\n",
              "      <td>1959-01-03</td>\n",
              "      <td>30</td>\n",
              "    </tr>\n",
              "    <tr>\n",
              "      <th>3</th>\n",
              "      <td>1959-01-04</td>\n",
              "      <td>31</td>\n",
              "    </tr>\n",
              "    <tr>\n",
              "      <th>4</th>\n",
              "      <td>1959-01-05</td>\n",
              "      <td>44</td>\n",
              "    </tr>\n",
              "  </tbody>\n",
              "</table>\n",
              "</div>"
            ],
            "text/plain": [
              "        date  births\n",
              "0 1959-01-01      35\n",
              "1 1959-01-02      32\n",
              "2 1959-01-03      30\n",
              "3 1959-01-04      31\n",
              "4 1959-01-05      44"
            ]
          },
          "metadata": {
            "tags": []
          },
          "execution_count": 8
        }
      ]
    },
    {
      "cell_type": "code",
      "metadata": {
        "id": "QY1xsECPkphy",
        "colab_type": "code",
        "outputId": "7748e1f7-7319-42cd-9e15-efadeb0a4ca5",
        "colab": {
          "base_uri": "https://localhost:8080/",
          "height": 34
        }
      },
      "source": [
        "df2['date'].dtype\n",
        "#Here we see that now the system identifies dates in date formate"
      ],
      "execution_count": 9,
      "outputs": [
        {
          "output_type": "execute_result",
          "data": {
            "text/plain": [
              "dtype('<M8[ns]')"
            ]
          },
          "metadata": {
            "tags": []
          },
          "execution_count": 9
        }
      ]
    },
    {
      "cell_type": "markdown",
      "metadata": {
        "id": "Cf9V_PJ8mqyG",
        "colab_type": "text"
      },
      "source": [
        "#Load Data as Series\n",
        "We need to make the date time column as our index column"
      ]
    },
    {
      "cell_type": "code",
      "metadata": {
        "id": "AEe2TIQVmppe",
        "colab_type": "code",
        "colab": {}
      },
      "source": [
        "series=dataframe=pd.read_csv(\"daily-total-female-births-CA.csv\",header=0,parse_dates=[0],index_col=0,squeeze=True)"
      ],
      "execution_count": 0,
      "outputs": []
    },
    {
      "cell_type": "code",
      "metadata": {
        "id": "IM-px7QEm9e9",
        "colab_type": "code",
        "outputId": "0fbbbe0e-0ccb-46bc-e116-570b923a16f5",
        "colab": {
          "base_uri": "https://localhost:8080/",
          "height": 140
        }
      },
      "source": [
        "#Here we get the series name as birth\n",
        "series.head()"
      ],
      "execution_count": 11,
      "outputs": [
        {
          "output_type": "execute_result",
          "data": {
            "text/plain": [
              "date\n",
              "1959-01-01    35\n",
              "1959-01-02    32\n",
              "1959-01-03    30\n",
              "1959-01-04    31\n",
              "1959-01-05    44\n",
              "Name: births, dtype: int64"
            ]
          },
          "metadata": {
            "tags": []
          },
          "execution_count": 11
        }
      ]
    },
    {
      "cell_type": "markdown",
      "metadata": {
        "id": "i2rQfOSrnTCj",
        "colab_type": "text"
      },
      "source": [
        "##Exploring Time Series Data"
      ]
    },
    {
      "cell_type": "code",
      "metadata": {
        "id": "gtHq2nUbnVZE",
        "colab_type": "code",
        "outputId": "19fe48b3-dc64-4fa2-82a1-568f3fc15f8f",
        "colab": {
          "base_uri": "https://localhost:8080/",
          "height": 34
        }
      },
      "source": [
        "series.shape"
      ],
      "execution_count": 12,
      "outputs": [
        {
          "output_type": "execute_result",
          "data": {
            "text/plain": [
              "(365,)"
            ]
          },
          "metadata": {
            "tags": []
          },
          "execution_count": 12
        }
      ]
    },
    {
      "cell_type": "code",
      "metadata": {
        "id": "W0AGIlrxnY-C",
        "colab_type": "code",
        "outputId": "d097e77e-67e5-4c5e-c56f-a8cdfac26b2d",
        "colab": {
          "base_uri": "https://localhost:8080/",
          "height": 34
        }
      },
      "source": [
        "df2.shape"
      ],
      "execution_count": 13,
      "outputs": [
        {
          "output_type": "execute_result",
          "data": {
            "text/plain": [
              "(365, 2)"
            ]
          },
          "metadata": {
            "tags": []
          },
          "execution_count": 13
        }
      ]
    },
    {
      "cell_type": "markdown",
      "metadata": {
        "id": "F6Cx4Ol-nzbh",
        "colab_type": "text"
      },
      "source": [
        "##Quering by Time\n",
        "By using Series"
      ]
    },
    {
      "cell_type": "code",
      "metadata": {
        "id": "c4v0b1VFn1ew",
        "colab_type": "code",
        "outputId": "e3e7cc61-c670-48ab-fee4-edbcf44c92a1",
        "colab": {
          "base_uri": "https://localhost:8080/",
          "height": 598
        }
      },
      "source": [
        "print(series['1959-01'])"
      ],
      "execution_count": 14,
      "outputs": [
        {
          "output_type": "stream",
          "text": [
            "date\n",
            "1959-01-01    35\n",
            "1959-01-02    32\n",
            "1959-01-03    30\n",
            "1959-01-04    31\n",
            "1959-01-05    44\n",
            "1959-01-06    29\n",
            "1959-01-07    45\n",
            "1959-01-08    43\n",
            "1959-01-09    38\n",
            "1959-01-10    27\n",
            "1959-01-11    38\n",
            "1959-01-12    33\n",
            "1959-01-13    55\n",
            "1959-01-14    47\n",
            "1959-01-15    45\n",
            "1959-01-16    37\n",
            "1959-01-17    50\n",
            "1959-01-18    43\n",
            "1959-01-19    41\n",
            "1959-01-20    52\n",
            "1959-01-21    34\n",
            "1959-01-22    53\n",
            "1959-01-23    39\n",
            "1959-01-24    32\n",
            "1959-01-25    37\n",
            "1959-01-26    43\n",
            "1959-01-27    39\n",
            "1959-01-28    35\n",
            "1959-01-29    44\n",
            "1959-01-30    38\n",
            "1959-01-31    24\n",
            "Name: births, dtype: int64\n"
          ],
          "name": "stdout"
        }
      ]
    },
    {
      "cell_type": "markdown",
      "metadata": {
        "id": "jwI2k7AdoL4G",
        "colab_type": "text"
      },
      "source": [
        "By using Dataframe"
      ]
    },
    {
      "cell_type": "code",
      "metadata": {
        "id": "u7qU7jWWoN-S",
        "colab_type": "code",
        "outputId": "30c3f3ab-aeec-4083-9b83-3030ebc0af17",
        "colab": {
          "base_uri": "https://localhost:8080/",
          "height": 610
        }
      },
      "source": [
        "df2[(df2['date']>'1959-01-01')&(df2['date']<'1959-01-21')]"
      ],
      "execution_count": 15,
      "outputs": [
        {
          "output_type": "execute_result",
          "data": {
            "text/html": [
              "<div>\n",
              "<style scoped>\n",
              "    .dataframe tbody tr th:only-of-type {\n",
              "        vertical-align: middle;\n",
              "    }\n",
              "\n",
              "    .dataframe tbody tr th {\n",
              "        vertical-align: top;\n",
              "    }\n",
              "\n",
              "    .dataframe thead th {\n",
              "        text-align: right;\n",
              "    }\n",
              "</style>\n",
              "<table border=\"1\" class=\"dataframe\">\n",
              "  <thead>\n",
              "    <tr style=\"text-align: right;\">\n",
              "      <th></th>\n",
              "      <th>date</th>\n",
              "      <th>births</th>\n",
              "    </tr>\n",
              "  </thead>\n",
              "  <tbody>\n",
              "    <tr>\n",
              "      <th>1</th>\n",
              "      <td>1959-01-02</td>\n",
              "      <td>32</td>\n",
              "    </tr>\n",
              "    <tr>\n",
              "      <th>2</th>\n",
              "      <td>1959-01-03</td>\n",
              "      <td>30</td>\n",
              "    </tr>\n",
              "    <tr>\n",
              "      <th>3</th>\n",
              "      <td>1959-01-04</td>\n",
              "      <td>31</td>\n",
              "    </tr>\n",
              "    <tr>\n",
              "      <th>4</th>\n",
              "      <td>1959-01-05</td>\n",
              "      <td>44</td>\n",
              "    </tr>\n",
              "    <tr>\n",
              "      <th>5</th>\n",
              "      <td>1959-01-06</td>\n",
              "      <td>29</td>\n",
              "    </tr>\n",
              "    <tr>\n",
              "      <th>6</th>\n",
              "      <td>1959-01-07</td>\n",
              "      <td>45</td>\n",
              "    </tr>\n",
              "    <tr>\n",
              "      <th>7</th>\n",
              "      <td>1959-01-08</td>\n",
              "      <td>43</td>\n",
              "    </tr>\n",
              "    <tr>\n",
              "      <th>8</th>\n",
              "      <td>1959-01-09</td>\n",
              "      <td>38</td>\n",
              "    </tr>\n",
              "    <tr>\n",
              "      <th>9</th>\n",
              "      <td>1959-01-10</td>\n",
              "      <td>27</td>\n",
              "    </tr>\n",
              "    <tr>\n",
              "      <th>10</th>\n",
              "      <td>1959-01-11</td>\n",
              "      <td>38</td>\n",
              "    </tr>\n",
              "    <tr>\n",
              "      <th>11</th>\n",
              "      <td>1959-01-12</td>\n",
              "      <td>33</td>\n",
              "    </tr>\n",
              "    <tr>\n",
              "      <th>12</th>\n",
              "      <td>1959-01-13</td>\n",
              "      <td>55</td>\n",
              "    </tr>\n",
              "    <tr>\n",
              "      <th>13</th>\n",
              "      <td>1959-01-14</td>\n",
              "      <td>47</td>\n",
              "    </tr>\n",
              "    <tr>\n",
              "      <th>14</th>\n",
              "      <td>1959-01-15</td>\n",
              "      <td>45</td>\n",
              "    </tr>\n",
              "    <tr>\n",
              "      <th>15</th>\n",
              "      <td>1959-01-16</td>\n",
              "      <td>37</td>\n",
              "    </tr>\n",
              "    <tr>\n",
              "      <th>16</th>\n",
              "      <td>1959-01-17</td>\n",
              "      <td>50</td>\n",
              "    </tr>\n",
              "    <tr>\n",
              "      <th>17</th>\n",
              "      <td>1959-01-18</td>\n",
              "      <td>43</td>\n",
              "    </tr>\n",
              "    <tr>\n",
              "      <th>18</th>\n",
              "      <td>1959-01-19</td>\n",
              "      <td>41</td>\n",
              "    </tr>\n",
              "    <tr>\n",
              "      <th>19</th>\n",
              "      <td>1959-01-20</td>\n",
              "      <td>52</td>\n",
              "    </tr>\n",
              "  </tbody>\n",
              "</table>\n",
              "</div>"
            ],
            "text/plain": [
              "         date  births\n",
              "1  1959-01-02      32\n",
              "2  1959-01-03      30\n",
              "3  1959-01-04      31\n",
              "4  1959-01-05      44\n",
              "5  1959-01-06      29\n",
              "6  1959-01-07      45\n",
              "7  1959-01-08      43\n",
              "8  1959-01-09      38\n",
              "9  1959-01-10      27\n",
              "10 1959-01-11      38\n",
              "11 1959-01-12      33\n",
              "12 1959-01-13      55\n",
              "13 1959-01-14      47\n",
              "14 1959-01-15      45\n",
              "15 1959-01-16      37\n",
              "16 1959-01-17      50\n",
              "17 1959-01-18      43\n",
              "18 1959-01-19      41\n",
              "19 1959-01-20      52"
            ]
          },
          "metadata": {
            "tags": []
          },
          "execution_count": 15
        }
      ]
    },
    {
      "cell_type": "markdown",
      "metadata": {
        "id": "jLYTxO0ho6lw",
        "colab_type": "text"
      },
      "source": [
        "Statistical Description"
      ]
    },
    {
      "cell_type": "code",
      "metadata": {
        "id": "RBNnZBAXo80_",
        "colab_type": "code",
        "outputId": "b8e79582-2c01-4062-e4a6-2ac7e09efae9",
        "colab": {
          "base_uri": "https://localhost:8080/",
          "height": 175
        }
      },
      "source": [
        "series.describe()"
      ],
      "execution_count": 16,
      "outputs": [
        {
          "output_type": "execute_result",
          "data": {
            "text/plain": [
              "count    365.000000\n",
              "mean      41.980822\n",
              "std        7.348257\n",
              "min       23.000000\n",
              "25%       37.000000\n",
              "50%       42.000000\n",
              "75%       46.000000\n",
              "max       73.000000\n",
              "Name: births, dtype: float64"
            ]
          },
          "metadata": {
            "tags": []
          },
          "execution_count": 16
        }
      ]
    },
    {
      "cell_type": "code",
      "metadata": {
        "id": "ml8Z6MVApD3J",
        "colab_type": "code",
        "outputId": "115cd294-c3c0-4b81-9fe6-2b6e4cee5e00",
        "colab": {
          "base_uri": "https://localhost:8080/",
          "height": 284
        }
      },
      "source": [
        "df2.describe()"
      ],
      "execution_count": 17,
      "outputs": [
        {
          "output_type": "execute_result",
          "data": {
            "text/html": [
              "<div>\n",
              "<style scoped>\n",
              "    .dataframe tbody tr th:only-of-type {\n",
              "        vertical-align: middle;\n",
              "    }\n",
              "\n",
              "    .dataframe tbody tr th {\n",
              "        vertical-align: top;\n",
              "    }\n",
              "\n",
              "    .dataframe thead th {\n",
              "        text-align: right;\n",
              "    }\n",
              "</style>\n",
              "<table border=\"1\" class=\"dataframe\">\n",
              "  <thead>\n",
              "    <tr style=\"text-align: right;\">\n",
              "      <th></th>\n",
              "      <th>births</th>\n",
              "    </tr>\n",
              "  </thead>\n",
              "  <tbody>\n",
              "    <tr>\n",
              "      <th>count</th>\n",
              "      <td>365.000000</td>\n",
              "    </tr>\n",
              "    <tr>\n",
              "      <th>mean</th>\n",
              "      <td>41.980822</td>\n",
              "    </tr>\n",
              "    <tr>\n",
              "      <th>std</th>\n",
              "      <td>7.348257</td>\n",
              "    </tr>\n",
              "    <tr>\n",
              "      <th>min</th>\n",
              "      <td>23.000000</td>\n",
              "    </tr>\n",
              "    <tr>\n",
              "      <th>25%</th>\n",
              "      <td>37.000000</td>\n",
              "    </tr>\n",
              "    <tr>\n",
              "      <th>50%</th>\n",
              "      <td>42.000000</td>\n",
              "    </tr>\n",
              "    <tr>\n",
              "      <th>75%</th>\n",
              "      <td>46.000000</td>\n",
              "    </tr>\n",
              "    <tr>\n",
              "      <th>max</th>\n",
              "      <td>73.000000</td>\n",
              "    </tr>\n",
              "  </tbody>\n",
              "</table>\n",
              "</div>"
            ],
            "text/plain": [
              "           births\n",
              "count  365.000000\n",
              "mean    41.980822\n",
              "std      7.348257\n",
              "min     23.000000\n",
              "25%     37.000000\n",
              "50%     42.000000\n",
              "75%     46.000000\n",
              "max     73.000000"
            ]
          },
          "metadata": {
            "tags": []
          },
          "execution_count": 17
        }
      ]
    },
    {
      "cell_type": "markdown",
      "metadata": {
        "id": "LZIffRS-utNh",
        "colab_type": "text"
      },
      "source": [
        "#Time Series Data Visualization"
      ]
    },
    {
      "cell_type": "markdown",
      "metadata": {
        "id": "T6vqjtzEuxlG",
        "colab_type": "text"
      },
      "source": [
        "Line Chart"
      ]
    },
    {
      "cell_type": "code",
      "metadata": {
        "id": "dSWxtxhMpLa0",
        "colab_type": "code",
        "colab": {}
      },
      "source": [
        "from matplotlib import pyplot as plt\n",
        "%matplotlib inline"
      ],
      "execution_count": 0,
      "outputs": []
    },
    {
      "cell_type": "code",
      "metadata": {
        "id": "UyIMLLPev69L",
        "colab_type": "code",
        "colab": {}
      },
      "source": [
        "df3=df2.copy()"
      ],
      "execution_count": 0,
      "outputs": []
    },
    {
      "cell_type": "code",
      "metadata": {
        "id": "rr3W1OEHu_60",
        "colab_type": "code",
        "outputId": "12be4e2d-3ff8-4953-ae1b-0c02f7dbba6e",
        "colab": {
          "base_uri": "https://localhost:8080/",
          "height": 343
        }
      },
      "source": [
        "df3.head(10)"
      ],
      "execution_count": 20,
      "outputs": [
        {
          "output_type": "execute_result",
          "data": {
            "text/html": [
              "<div>\n",
              "<style scoped>\n",
              "    .dataframe tbody tr th:only-of-type {\n",
              "        vertical-align: middle;\n",
              "    }\n",
              "\n",
              "    .dataframe tbody tr th {\n",
              "        vertical-align: top;\n",
              "    }\n",
              "\n",
              "    .dataframe thead th {\n",
              "        text-align: right;\n",
              "    }\n",
              "</style>\n",
              "<table border=\"1\" class=\"dataframe\">\n",
              "  <thead>\n",
              "    <tr style=\"text-align: right;\">\n",
              "      <th></th>\n",
              "      <th>date</th>\n",
              "      <th>births</th>\n",
              "    </tr>\n",
              "  </thead>\n",
              "  <tbody>\n",
              "    <tr>\n",
              "      <th>0</th>\n",
              "      <td>1959-01-01</td>\n",
              "      <td>35</td>\n",
              "    </tr>\n",
              "    <tr>\n",
              "      <th>1</th>\n",
              "      <td>1959-01-02</td>\n",
              "      <td>32</td>\n",
              "    </tr>\n",
              "    <tr>\n",
              "      <th>2</th>\n",
              "      <td>1959-01-03</td>\n",
              "      <td>30</td>\n",
              "    </tr>\n",
              "    <tr>\n",
              "      <th>3</th>\n",
              "      <td>1959-01-04</td>\n",
              "      <td>31</td>\n",
              "    </tr>\n",
              "    <tr>\n",
              "      <th>4</th>\n",
              "      <td>1959-01-05</td>\n",
              "      <td>44</td>\n",
              "    </tr>\n",
              "    <tr>\n",
              "      <th>5</th>\n",
              "      <td>1959-01-06</td>\n",
              "      <td>29</td>\n",
              "    </tr>\n",
              "    <tr>\n",
              "      <th>6</th>\n",
              "      <td>1959-01-07</td>\n",
              "      <td>45</td>\n",
              "    </tr>\n",
              "    <tr>\n",
              "      <th>7</th>\n",
              "      <td>1959-01-08</td>\n",
              "      <td>43</td>\n",
              "    </tr>\n",
              "    <tr>\n",
              "      <th>8</th>\n",
              "      <td>1959-01-09</td>\n",
              "      <td>38</td>\n",
              "    </tr>\n",
              "    <tr>\n",
              "      <th>9</th>\n",
              "      <td>1959-01-10</td>\n",
              "      <td>27</td>\n",
              "    </tr>\n",
              "  </tbody>\n",
              "</table>\n",
              "</div>"
            ],
            "text/plain": [
              "        date  births\n",
              "0 1959-01-01      35\n",
              "1 1959-01-02      32\n",
              "2 1959-01-03      30\n",
              "3 1959-01-04      31\n",
              "4 1959-01-05      44\n",
              "5 1959-01-06      29\n",
              "6 1959-01-07      45\n",
              "7 1959-01-08      43\n",
              "8 1959-01-09      38\n",
              "9 1959-01-10      27"
            ]
          },
          "metadata": {
            "tags": []
          },
          "execution_count": 20
        }
      ]
    },
    {
      "cell_type": "code",
      "metadata": {
        "id": "5wfk1ODBvHJa",
        "colab_type": "code",
        "outputId": "24e5283e-9223-488a-eebe-68e12f9523a5",
        "colab": {
          "base_uri": "https://localhost:8080/",
          "height": 282
        }
      },
      "source": [
        "#We get index value at X-axis in the following plot\n",
        "df3['births'].plot()"
      ],
      "execution_count": 21,
      "outputs": [
        {
          "output_type": "execute_result",
          "data": {
            "text/plain": [
              "<matplotlib.axes._subplots.AxesSubplot at 0x7fafb42efcf8>"
            ]
          },
          "metadata": {
            "tags": []
          },
          "execution_count": 21
        },
        {
          "output_type": "display_data",
          "data": {
            "image/png": "[encoded data removed]",
            "text/plain": [
              "<Figure size 432x288 with 1 Axes>"
            ]
          },
          "metadata": {
            "tags": [],
            "needs_background": "light"
          }
        }
      ]
    },
    {
      "cell_type": "code",
      "metadata": {
        "id": "ji9h2QjDvlbB",
        "colab_type": "code",
        "colab": {}
      },
      "source": [
        "#Now to get index as date\n",
        "df3.index=df3['date']"
      ],
      "execution_count": 0,
      "outputs": []
    },
    {
      "cell_type": "code",
      "metadata": {
        "id": "v2cuEQrcv4Yb",
        "colab_type": "code",
        "outputId": "0638dc6d-f0b0-45f5-c183-42cb519ab496",
        "colab": {
          "base_uri": "https://localhost:8080/",
          "height": 373
        }
      },
      "source": [
        "df3.head(10)"
      ],
      "execution_count": 23,
      "outputs": [
        {
          "output_type": "execute_result",
          "data": {
            "text/html": [
              "<div>\n",
              "<style scoped>\n",
              "    .dataframe tbody tr th:only-of-type {\n",
              "        vertical-align: middle;\n",
              "    }\n",
              "\n",
              "    .dataframe tbody tr th {\n",
              "        vertical-align: top;\n",
              "    }\n",
              "\n",
              "    .dataframe thead th {\n",
              "        text-align: right;\n",
              "    }\n",
              "</style>\n",
              "<table border=\"1\" class=\"dataframe\">\n",
              "  <thead>\n",
              "    <tr style=\"text-align: right;\">\n",
              "      <th></th>\n",
              "      <th>date</th>\n",
              "      <th>births</th>\n",
              "    </tr>\n",
              "    <tr>\n",
              "      <th>date</th>\n",
              "      <th></th>\n",
              "      <th></th>\n",
              "    </tr>\n",
              "  </thead>\n",
              "  <tbody>\n",
              "    <tr>\n",
              "      <th>1959-01-01</th>\n",
              "      <td>1959-01-01</td>\n",
              "      <td>35</td>\n",
              "    </tr>\n",
              "    <tr>\n",
              "      <th>1959-01-02</th>\n",
              "      <td>1959-01-02</td>\n",
              "      <td>32</td>\n",
              "    </tr>\n",
              "    <tr>\n",
              "      <th>1959-01-03</th>\n",
              "      <td>1959-01-03</td>\n",
              "      <td>30</td>\n",
              "    </tr>\n",
              "    <tr>\n",
              "      <th>1959-01-04</th>\n",
              "      <td>1959-01-04</td>\n",
              "      <td>31</td>\n",
              "    </tr>\n",
              "    <tr>\n",
              "      <th>1959-01-05</th>\n",
              "      <td>1959-01-05</td>\n",
              "      <td>44</td>\n",
              "    </tr>\n",
              "    <tr>\n",
              "      <th>1959-01-06</th>\n",
              "      <td>1959-01-06</td>\n",
              "      <td>29</td>\n",
              "    </tr>\n",
              "    <tr>\n",
              "      <th>1959-01-07</th>\n",
              "      <td>1959-01-07</td>\n",
              "      <td>45</td>\n",
              "    </tr>\n",
              "    <tr>\n",
              "      <th>1959-01-08</th>\n",
              "      <td>1959-01-08</td>\n",
              "      <td>43</td>\n",
              "    </tr>\n",
              "    <tr>\n",
              "      <th>1959-01-09</th>\n",
              "      <td>1959-01-09</td>\n",
              "      <td>38</td>\n",
              "    </tr>\n",
              "    <tr>\n",
              "      <th>1959-01-10</th>\n",
              "      <td>1959-01-10</td>\n",
              "      <td>27</td>\n",
              "    </tr>\n",
              "  </tbody>\n",
              "</table>\n",
              "</div>"
            ],
            "text/plain": [
              "                 date  births\n",
              "date                         \n",
              "1959-01-01 1959-01-01      35\n",
              "1959-01-02 1959-01-02      32\n",
              "1959-01-03 1959-01-03      30\n",
              "1959-01-04 1959-01-04      31\n",
              "1959-01-05 1959-01-05      44\n",
              "1959-01-06 1959-01-06      29\n",
              "1959-01-07 1959-01-07      45\n",
              "1959-01-08 1959-01-08      43\n",
              "1959-01-09 1959-01-09      38\n",
              "1959-01-10 1959-01-10      27"
            ]
          },
          "metadata": {
            "tags": []
          },
          "execution_count": 23
        }
      ]
    },
    {
      "cell_type": "code",
      "metadata": {
        "id": "j39h996nwF-h",
        "colab_type": "code",
        "outputId": "dcbf8dfa-011f-4884-f2e8-7e0c57bb6129",
        "colab": {
          "base_uri": "https://localhost:8080/",
          "height": 309
        }
      },
      "source": [
        "#We get a date in the X-axis\n",
        "df3['births'].plot()"
      ],
      "execution_count": 24,
      "outputs": [
        {
          "output_type": "execute_result",
          "data": {
            "text/plain": [
              "<matplotlib.axes._subplots.AxesSubplot at 0x7fafb423cdd8>"
            ]
          },
          "metadata": {
            "tags": []
          },
          "execution_count": 24
        },
        {
          "output_type": "display_data",
          "data": {
            "image/png": "[encoded data removed]",
            "text/plain": [
              "<Figure size 432x288 with 1 Axes>"
            ]
          },
          "metadata": {
            "tags": [],
            "needs_background": "light"
          }
        }
      ]
    },
    {
      "cell_type": "markdown",
      "metadata": {
        "id": "o7jhhRnWwcbs",
        "colab_type": "text"
      },
      "source": [
        "##Zooming In"
      ]
    },
    {
      "cell_type": "code",
      "metadata": {
        "id": "grIRpOdjwbY9",
        "colab_type": "code",
        "colab": {}
      },
      "source": [
        "df4=df3[(df3['date']>'1959-01-01')&(df3['date']<'1959-01-10')]"
      ],
      "execution_count": 0,
      "outputs": []
    },
    {
      "cell_type": "code",
      "metadata": {
        "id": "AzgNIRyiw460",
        "colab_type": "code",
        "outputId": "e7021691-14ef-4224-ebc7-65dbee9a05db",
        "colab": {
          "base_uri": "https://localhost:8080/",
          "height": 321
        }
      },
      "source": [
        "df4['births'].plot()"
      ],
      "execution_count": 26,
      "outputs": [
        {
          "output_type": "execute_result",
          "data": {
            "text/plain": [
              "<matplotlib.axes._subplots.AxesSubplot at 0x7fafb2a76128>"
            ]
          },
          "metadata": {
            "tags": []
          },
          "execution_count": 26
        },
        {
          "output_type": "display_data",
          "data": {
            "image/png": "[encoded data removed]",
            "text/plain": [
              "<Figure size 432x288 with 1 Axes>"
            ]
          },
          "metadata": {
            "tags": [],
            "needs_background": "light"
          }
        }
      ]
    },
    {
      "cell_type": "markdown",
      "metadata": {
        "id": "2FGMMS2Fxzk0",
        "colab_type": "text"
      },
      "source": [
        "Trendlines"
      ]
    },
    {
      "cell_type": "code",
      "metadata": {
        "id": "3THdA4bXx2tE",
        "colab_type": "code",
        "colab": {
          "base_uri": "https://localhost:8080/",
          "height": 72
        },
        "outputId": "173f397b-55b4-4c3e-ad61-d16720e84b91"
      },
      "source": [
        "import seaborn as sns"
      ],
      "execution_count": 27,
      "outputs": [
        {
          "output_type": "stream",
          "text": [
            "/usr/local/lib/python3.6/dist-packages/statsmodels/tools/_testing.py:19: FutureWarning: pandas.util.testing is deprecated. Use the functions in the public API at pandas.testing instead.\n",
            "  import pandas.util.testing as tm\n"
          ],
          "name": "stderr"
        }
      ]
    },
    {
      "cell_type": "code",
      "metadata": {
        "id": "i3huNeuLyL4q",
        "colab_type": "code",
        "outputId": "820ee9fc-c6b6-471a-8a01-4f90802609c6",
        "colab": {
          "base_uri": "https://localhost:8080/",
          "height": 282
        }
      },
      "source": [
        "sns.regplot(x=df2.index.values,y=df2['births'])"
      ],
      "execution_count": 28,
      "outputs": [
        {
          "output_type": "execute_result",
          "data": {
            "text/plain": [
              "<matplotlib.axes._subplots.AxesSubplot at 0x7fafa80247f0>"
            ]
          },
          "metadata": {
            "tags": []
          },
          "execution_count": 28
        },
        {
          "output_type": "display_data",
          "data": {
            "image/png": "[encoded data removed]",
            "text/plain": [
              "<Figure size 432x288 with 1 Axes>"
            ]
          },
          "metadata": {
            "tags": [],
            "needs_background": "light"
          }
        }
      ]
    },
    {
      "cell_type": "code",
      "metadata": {
        "id": "q4IgxUkDy26p",
        "colab_type": "code",
        "outputId": "42973666-283c-46f3-f35a-3bb3031bed1b",
        "colab": {
          "base_uri": "https://localhost:8080/",
          "height": 282
        }
      },
      "source": [
        "#Quadratic Trendline\n",
        "sns.regplot(x=df2.index.values,y=df2['births'],order=2)"
      ],
      "execution_count": 29,
      "outputs": [
        {
          "output_type": "execute_result",
          "data": {
            "text/plain": [
              "<matplotlib.axes._subplots.AxesSubplot at 0x7fafa7ffc898>"
            ]
          },
          "metadata": {
            "tags": []
          },
          "execution_count": 29
        },
        {
          "output_type": "display_data",
          "data": {
            "image/png": "[encoded data removed]",
            "text/plain": [
              "<Figure size 432x288 with 1 Axes>"
            ]
          },
          "metadata": {
            "tags": [],
            "needs_background": "light"
          }
        }
      ]
    },
    {
      "cell_type": "code",
      "metadata": {
        "id": "d0lSEYsfztYr",
        "colab_type": "code",
        "colab": {}
      },
      "source": [
        "miles_df=pd.read_csv('us-airlines-monthly-aircraft-miles-flown.csv',header=0,parse_dates=[0])"
      ],
      "execution_count": 0,
      "outputs": []
    },
    {
      "cell_type": "code",
      "metadata": {
        "id": "rGBndtpM0A29",
        "colab_type": "code",
        "outputId": "ad26f70f-1d11-4814-fd5a-284fc03591f8",
        "colab": {
          "base_uri": "https://localhost:8080/",
          "height": 195
        }
      },
      "source": [
        "miles_df.head()"
      ],
      "execution_count": 31,
      "outputs": [
        {
          "output_type": "execute_result",
          "data": {
            "text/html": [
              "<div>\n",
              "<style scoped>\n",
              "    .dataframe tbody tr th:only-of-type {\n",
              "        vertical-align: middle;\n",
              "    }\n",
              "\n",
              "    .dataframe tbody tr th {\n",
              "        vertical-align: top;\n",
              "    }\n",
              "\n",
              "    .dataframe thead th {\n",
              "        text-align: right;\n",
              "    }\n",
              "</style>\n",
              "<table border=\"1\" class=\"dataframe\">\n",
              "  <thead>\n",
              "    <tr style=\"text-align: right;\">\n",
              "      <th></th>\n",
              "      <th>Month</th>\n",
              "      <th>MilesMM</th>\n",
              "    </tr>\n",
              "  </thead>\n",
              "  <tbody>\n",
              "    <tr>\n",
              "      <th>0</th>\n",
              "      <td>1963-01-01</td>\n",
              "      <td>6827</td>\n",
              "    </tr>\n",
              "    <tr>\n",
              "      <th>1</th>\n",
              "      <td>1963-02-01</td>\n",
              "      <td>6178</td>\n",
              "    </tr>\n",
              "    <tr>\n",
              "      <th>2</th>\n",
              "      <td>1963-03-01</td>\n",
              "      <td>7084</td>\n",
              "    </tr>\n",
              "    <tr>\n",
              "      <th>3</th>\n",
              "      <td>1963-04-01</td>\n",
              "      <td>8162</td>\n",
              "    </tr>\n",
              "    <tr>\n",
              "      <th>4</th>\n",
              "      <td>1963-05-01</td>\n",
              "      <td>8462</td>\n",
              "    </tr>\n",
              "  </tbody>\n",
              "</table>\n",
              "</div>"
            ],
            "text/plain": [
              "       Month  MilesMM\n",
              "0 1963-01-01     6827\n",
              "1 1963-02-01     6178\n",
              "2 1963-03-01     7084\n",
              "3 1963-04-01     8162\n",
              "4 1963-05-01     8462"
            ]
          },
          "metadata": {
            "tags": []
          },
          "execution_count": 31
        }
      ]
    },
    {
      "cell_type": "code",
      "metadata": {
        "id": "WtNTZKfD0LpT",
        "colab_type": "code",
        "outputId": "475cc556-e16c-40f7-e6c9-5125ed7472b3",
        "colab": {
          "base_uri": "https://localhost:8080/",
          "height": 282
        }
      },
      "source": [
        "miles_df['MilesMM'].plot()"
      ],
      "execution_count": 32,
      "outputs": [
        {
          "output_type": "execute_result",
          "data": {
            "text/plain": [
              "<matplotlib.axes._subplots.AxesSubplot at 0x7fafa578ca58>"
            ]
          },
          "metadata": {
            "tags": []
          },
          "execution_count": 32
        },
        {
          "output_type": "display_data",
          "data": {
            "image/png": "[encoded data removed]",
            "text/plain": [
              "<Figure size 432x288 with 1 Axes>"
            ]
          },
          "metadata": {
            "tags": [],
            "needs_background": "light"
          }
        }
      ]
    },
    {
      "cell_type": "code",
      "metadata": {
        "id": "wwyy8euf0X9e",
        "colab_type": "code",
        "outputId": "a07eef7b-34c6-4461-de7b-a296ecc322ff",
        "colab": {
          "base_uri": "https://localhost:8080/",
          "height": 282
        }
      },
      "source": [
        "sns.regplot(x=miles_df.index.values,y=miles_df['MilesMM'])"
      ],
      "execution_count": 33,
      "outputs": [
        {
          "output_type": "execute_result",
          "data": {
            "text/plain": [
              "<matplotlib.axes._subplots.AxesSubplot at 0x7fafa56e3240>"
            ]
          },
          "metadata": {
            "tags": []
          },
          "execution_count": 33
        },
        {
          "output_type": "display_data",
          "data": {
            "image/png": "[encoded data removed]",
            "text/plain": [
              "<Figure size 432x288 with 1 Axes>"
            ]
          },
          "metadata": {
            "tags": [],
            "needs_background": "light"
          }
        }
      ]
    },
    {
      "cell_type": "markdown",
      "metadata": {
        "id": "RjZ030lC1gIe",
        "colab_type": "text"
      },
      "source": [
        "##Removing Seasonality"
      ]
    },
    {
      "cell_type": "code",
      "metadata": {
        "id": "9qSxmrTU1jBw",
        "colab_type": "code",
        "colab": {}
      },
      "source": [
        "miles_df['year']=miles_df['Month'].dt.year"
      ],
      "execution_count": 0,
      "outputs": []
    },
    {
      "cell_type": "code",
      "metadata": {
        "id": "FAyOd1Mk2QCn",
        "colab_type": "code",
        "outputId": "0caf6ab5-c83a-4913-845b-21016b064fce",
        "colab": {
          "base_uri": "https://localhost:8080/",
          "height": 195
        }
      },
      "source": [
        "miles_df.head()"
      ],
      "execution_count": 35,
      "outputs": [
        {
          "output_type": "execute_result",
          "data": {
            "text/html": [
              "<div>\n",
              "<style scoped>\n",
              "    .dataframe tbody tr th:only-of-type {\n",
              "        vertical-align: middle;\n",
              "    }\n",
              "\n",
              "    .dataframe tbody tr th {\n",
              "        vertical-align: top;\n",
              "    }\n",
              "\n",
              "    .dataframe thead th {\n",
              "        text-align: right;\n",
              "    }\n",
              "</style>\n",
              "<table border=\"1\" class=\"dataframe\">\n",
              "  <thead>\n",
              "    <tr style=\"text-align: right;\">\n",
              "      <th></th>\n",
              "      <th>Month</th>\n",
              "      <th>MilesMM</th>\n",
              "      <th>year</th>\n",
              "    </tr>\n",
              "  </thead>\n",
              "  <tbody>\n",
              "    <tr>\n",
              "      <th>0</th>\n",
              "      <td>1963-01-01</td>\n",
              "      <td>6827</td>\n",
              "      <td>1963</td>\n",
              "    </tr>\n",
              "    <tr>\n",
              "      <th>1</th>\n",
              "      <td>1963-02-01</td>\n",
              "      <td>6178</td>\n",
              "      <td>1963</td>\n",
              "    </tr>\n",
              "    <tr>\n",
              "      <th>2</th>\n",
              "      <td>1963-03-01</td>\n",
              "      <td>7084</td>\n",
              "      <td>1963</td>\n",
              "    </tr>\n",
              "    <tr>\n",
              "      <th>3</th>\n",
              "      <td>1963-04-01</td>\n",
              "      <td>8162</td>\n",
              "      <td>1963</td>\n",
              "    </tr>\n",
              "    <tr>\n",
              "      <th>4</th>\n",
              "      <td>1963-05-01</td>\n",
              "      <td>8462</td>\n",
              "      <td>1963</td>\n",
              "    </tr>\n",
              "  </tbody>\n",
              "</table>\n",
              "</div>"
            ],
            "text/plain": [
              "       Month  MilesMM  year\n",
              "0 1963-01-01     6827  1963\n",
              "1 1963-02-01     6178  1963\n",
              "2 1963-03-01     7084  1963\n",
              "3 1963-04-01     8162  1963\n",
              "4 1963-05-01     8462  1963"
            ]
          },
          "metadata": {
            "tags": []
          },
          "execution_count": 35
        }
      ]
    },
    {
      "cell_type": "code",
      "metadata": {
        "id": "Cy6b0v8z2iWB",
        "colab_type": "code",
        "colab": {}
      },
      "source": [
        "yr=miles_df.groupby('year')"
      ],
      "execution_count": 0,
      "outputs": []
    },
    {
      "cell_type": "code",
      "metadata": {
        "id": "7f1dta0-2_xb",
        "colab_type": "code",
        "outputId": "c119518d-516d-43a7-e3db-f790df410bad",
        "colab": {
          "base_uri": "https://localhost:8080/",
          "height": 193
        }
      },
      "source": [
        "yr['MilesMM'].mean()"
      ],
      "execution_count": 37,
      "outputs": [
        {
          "output_type": "execute_result",
          "data": {
            "text/plain": [
              "year\n",
              "1963     8300.250000\n",
              "1964     8849.333333\n",
              "1965     9619.250000\n",
              "1966     9929.500000\n",
              "1967    10542.916667\n",
              "1968    10747.916667\n",
              "1969    11972.000000\n",
              "1970    13124.750000\n",
              "Name: MilesMM, dtype: float64"
            ]
          },
          "metadata": {
            "tags": []
          },
          "execution_count": 37
        }
      ]
    },
    {
      "cell_type": "code",
      "metadata": {
        "id": "ALDQO_6Y2l_m",
        "colab_type": "code",
        "outputId": "3349cc53-b532-4056-b056-adf93c24e6c6",
        "colab": {
          "base_uri": "https://localhost:8080/",
          "height": 297
        }
      },
      "source": [
        "yr['MilesMM'].mean().plot()"
      ],
      "execution_count": 38,
      "outputs": [
        {
          "output_type": "execute_result",
          "data": {
            "text/plain": [
              "<matplotlib.axes._subplots.AxesSubplot at 0x7fafa56c4438>"
            ]
          },
          "metadata": {
            "tags": []
          },
          "execution_count": 38
        },
        {
          "output_type": "display_data",
          "data": {
            "image/png": "[encoded data removed]",
            "text/plain": [
              "<Figure size 432x288 with 1 Axes>"
            ]
          },
          "metadata": {
            "tags": [],
            "needs_background": "light"
          }
        }
      ]
    },
    {
      "cell_type": "markdown",
      "metadata": {
        "id": "io4BP2tV3BsP",
        "colab_type": "text"
      },
      "source": [
        "Lag Plot"
      ]
    },
    {
      "cell_type": "code",
      "metadata": {
        "id": "RJcgxx8K3A4N",
        "colab_type": "code",
        "colab": {}
      },
      "source": [
        "miles_df['lag1']=miles_df['MilesMM'].shift(1)"
      ],
      "execution_count": 0,
      "outputs": []
    },
    {
      "cell_type": "code",
      "metadata": {
        "id": "1hAiit-v3ffN",
        "colab_type": "code",
        "outputId": "74be01c7-dba1-4af9-972e-3111019b7606",
        "colab": {
          "base_uri": "https://localhost:8080/",
          "height": 195
        }
      },
      "source": [
        "miles_df.head()"
      ],
      "execution_count": 40,
      "outputs": [
        {
          "output_type": "execute_result",
          "data": {
            "text/html": [
              "<div>\n",
              "<style scoped>\n",
              "    .dataframe tbody tr th:only-of-type {\n",
              "        vertical-align: middle;\n",
              "    }\n",
              "\n",
              "    .dataframe tbody tr th {\n",
              "        vertical-align: top;\n",
              "    }\n",
              "\n",
              "    .dataframe thead th {\n",
              "        text-align: right;\n",
              "    }\n",
              "</style>\n",
              "<table border=\"1\" class=\"dataframe\">\n",
              "  <thead>\n",
              "    <tr style=\"text-align: right;\">\n",
              "      <th></th>\n",
              "      <th>Month</th>\n",
              "      <th>MilesMM</th>\n",
              "      <th>year</th>\n",
              "      <th>lag1</th>\n",
              "    </tr>\n",
              "  </thead>\n",
              "  <tbody>\n",
              "    <tr>\n",
              "      <th>0</th>\n",
              "      <td>1963-01-01</td>\n",
              "      <td>6827</td>\n",
              "      <td>1963</td>\n",
              "      <td>NaN</td>\n",
              "    </tr>\n",
              "    <tr>\n",
              "      <th>1</th>\n",
              "      <td>1963-02-01</td>\n",
              "      <td>6178</td>\n",
              "      <td>1963</td>\n",
              "      <td>6827.0</td>\n",
              "    </tr>\n",
              "    <tr>\n",
              "      <th>2</th>\n",
              "      <td>1963-03-01</td>\n",
              "      <td>7084</td>\n",
              "      <td>1963</td>\n",
              "      <td>6178.0</td>\n",
              "    </tr>\n",
              "    <tr>\n",
              "      <th>3</th>\n",
              "      <td>1963-04-01</td>\n",
              "      <td>8162</td>\n",
              "      <td>1963</td>\n",
              "      <td>7084.0</td>\n",
              "    </tr>\n",
              "    <tr>\n",
              "      <th>4</th>\n",
              "      <td>1963-05-01</td>\n",
              "      <td>8462</td>\n",
              "      <td>1963</td>\n",
              "      <td>8162.0</td>\n",
              "    </tr>\n",
              "  </tbody>\n",
              "</table>\n",
              "</div>"
            ],
            "text/plain": [
              "       Month  MilesMM  year    lag1\n",
              "0 1963-01-01     6827  1963     NaN\n",
              "1 1963-02-01     6178  1963  6827.0\n",
              "2 1963-03-01     7084  1963  6178.0\n",
              "3 1963-04-01     8162  1963  7084.0\n",
              "4 1963-05-01     8462  1963  8162.0"
            ]
          },
          "metadata": {
            "tags": []
          },
          "execution_count": 40
        }
      ]
    },
    {
      "cell_type": "code",
      "metadata": {
        "id": "57bpGnIh4E-t",
        "colab_type": "code",
        "outputId": "90c16b62-2699-4ff0-a11e-126f5e36a7ce",
        "colab": {
          "base_uri": "https://localhost:8080/",
          "height": 297
        }
      },
      "source": [
        "sns.scatterplot(x=miles_df['lag1'],y=miles_df['MilesMM'])"
      ],
      "execution_count": 41,
      "outputs": [
        {
          "output_type": "execute_result",
          "data": {
            "text/plain": [
              "<matplotlib.axes._subplots.AxesSubplot at 0x7fafa563e0f0>"
            ]
          },
          "metadata": {
            "tags": []
          },
          "execution_count": 41
        },
        {
          "output_type": "display_data",
          "data": {
            "image/png": "[encoded data removed]",
            "text/plain": [
              "<Figure size 432x288 with 1 Axes>"
            ]
          },
          "metadata": {
            "tags": [],
            "needs_background": "light"
          }
        }
      ]
    },
    {
      "cell_type": "markdown",
      "metadata": {
        "id": "tYGfZdrk46eh",
        "colab_type": "text"
      },
      "source": [
        "Using the direc lag_plot funtion for lag plot"
      ]
    },
    {
      "cell_type": "code",
      "metadata": {
        "id": "r6Y3vIUV4s0H",
        "colab_type": "code",
        "colab": {}
      },
      "source": [
        "from pandas.plotting import lag_plot"
      ],
      "execution_count": 0,
      "outputs": []
    },
    {
      "cell_type": "code",
      "metadata": {
        "id": "ZghV4tDq4zhO",
        "colab_type": "code",
        "outputId": "4de0f342-1d04-4e5b-d1bb-113aff65cec0",
        "colab": {
          "base_uri": "https://localhost:8080/",
          "height": 297
        }
      },
      "source": [
        "lag_plot(miles_df['MilesMM'])"
      ],
      "execution_count": 43,
      "outputs": [
        {
          "output_type": "execute_result",
          "data": {
            "text/plain": [
              "<matplotlib.axes._subplots.AxesSubplot at 0x7fafa55ab550>"
            ]
          },
          "metadata": {
            "tags": []
          },
          "execution_count": 43
        },
        {
          "output_type": "display_data",
          "data": {
            "image/png": "[encoded data removed]",
            "text/plain": [
              "<Figure size 432x288 with 1 Axes>"
            ]
          },
          "metadata": {
            "tags": [],
            "needs_background": "light"
          }
        }
      ]
    },
    {
      "cell_type": "markdown",
      "metadata": {
        "id": "2w731sJP5XKW",
        "colab_type": "text"
      },
      "source": [
        "Autocorrelation Plots"
      ]
    },
    {
      "cell_type": "code",
      "metadata": {
        "id": "5x5yCSDI5DoW",
        "colab_type": "code",
        "colab": {}
      },
      "source": [
        "#To get correlation between lag values\n",
        "from pandas.plotting import autocorrelation_plot"
      ],
      "execution_count": 0,
      "outputs": []
    },
    {
      "cell_type": "code",
      "metadata": {
        "id": "-XRkWeR-510b",
        "colab_type": "code",
        "outputId": "b7a7a416-43b5-4802-890e-f75fa2e5ba63",
        "colab": {
          "base_uri": "https://localhost:8080/",
          "height": 301
        }
      },
      "source": [
        "autocorrelation_plot(miles_df['MilesMM'])"
      ],
      "execution_count": 45,
      "outputs": [
        {
          "output_type": "execute_result",
          "data": {
            "text/plain": [
              "<matplotlib.axes._subplots.AxesSubplot at 0x7fafa56336a0>"
            ]
          },
          "metadata": {
            "tags": []
          },
          "execution_count": 45
        },
        {
          "output_type": "display_data",
          "data": {
            "image/png": "[encoded data removed]",
            "text/plain": [
              "<Figure size 432x288 with 1 Axes>"
            ]
          },
          "metadata": {
            "tags": [],
            "needs_background": "light"
          }
        }
      ]
    },
    {
      "cell_type": "markdown",
      "metadata": {
        "id": "pltznVegw9r9",
        "colab_type": "text"
      },
      "source": [
        "##Feature Engineering"
      ]
    },
    {
      "cell_type": "markdown",
      "metadata": {
        "id": "VlMBadigxGc0",
        "colab_type": "text"
      },
      "source": [
        "Date Time Features"
      ]
    },
    {
      "cell_type": "code",
      "metadata": {
        "id": "ImeuV4RkxRHE",
        "colab_type": "code",
        "outputId": "8ffb02d9-c097-4ea4-84f1-7fce952106b4",
        "colab": {
          "base_uri": "https://localhost:8080/",
          "height": 195
        }
      },
      "source": [
        "df2.head(5)"
      ],
      "execution_count": 46,
      "outputs": [
        {
          "output_type": "execute_result",
          "data": {
            "text/html": [
              "<div>\n",
              "<style scoped>\n",
              "    .dataframe tbody tr th:only-of-type {\n",
              "        vertical-align: middle;\n",
              "    }\n",
              "\n",
              "    .dataframe tbody tr th {\n",
              "        vertical-align: top;\n",
              "    }\n",
              "\n",
              "    .dataframe thead th {\n",
              "        text-align: right;\n",
              "    }\n",
              "</style>\n",
              "<table border=\"1\" class=\"dataframe\">\n",
              "  <thead>\n",
              "    <tr style=\"text-align: right;\">\n",
              "      <th></th>\n",
              "      <th>date</th>\n",
              "      <th>births</th>\n",
              "    </tr>\n",
              "  </thead>\n",
              "  <tbody>\n",
              "    <tr>\n",
              "      <th>0</th>\n",
              "      <td>1959-01-01</td>\n",
              "      <td>35</td>\n",
              "    </tr>\n",
              "    <tr>\n",
              "      <th>1</th>\n",
              "      <td>1959-01-02</td>\n",
              "      <td>32</td>\n",
              "    </tr>\n",
              "    <tr>\n",
              "      <th>2</th>\n",
              "      <td>1959-01-03</td>\n",
              "      <td>30</td>\n",
              "    </tr>\n",
              "    <tr>\n",
              "      <th>3</th>\n",
              "      <td>1959-01-04</td>\n",
              "      <td>31</td>\n",
              "    </tr>\n",
              "    <tr>\n",
              "      <th>4</th>\n",
              "      <td>1959-01-05</td>\n",
              "      <td>44</td>\n",
              "    </tr>\n",
              "  </tbody>\n",
              "</table>\n",
              "</div>"
            ],
            "text/plain": [
              "        date  births\n",
              "0 1959-01-01      35\n",
              "1 1959-01-02      32\n",
              "2 1959-01-03      30\n",
              "3 1959-01-04      31\n",
              "4 1959-01-05      44"
            ]
          },
          "metadata": {
            "tags": []
          },
          "execution_count": 46
        }
      ]
    },
    {
      "cell_type": "code",
      "metadata": {
        "id": "c5j_MrMxxiHY",
        "colab_type": "code",
        "colab": {}
      },
      "source": [
        "features=df2.copy()"
      ],
      "execution_count": 0,
      "outputs": []
    },
    {
      "cell_type": "code",
      "metadata": {
        "id": "0-sSu8jYyNPS",
        "colab_type": "code",
        "outputId": "006bd9eb-6940-4c5f-bbd1-d59148c3cfcb",
        "colab": {
          "base_uri": "https://localhost:8080/",
          "height": 195
        }
      },
      "source": [
        "features.head()"
      ],
      "execution_count": 48,
      "outputs": [
        {
          "output_type": "execute_result",
          "data": {
            "text/html": [
              "<div>\n",
              "<style scoped>\n",
              "    .dataframe tbody tr th:only-of-type {\n",
              "        vertical-align: middle;\n",
              "    }\n",
              "\n",
              "    .dataframe tbody tr th {\n",
              "        vertical-align: top;\n",
              "    }\n",
              "\n",
              "    .dataframe thead th {\n",
              "        text-align: right;\n",
              "    }\n",
              "</style>\n",
              "<table border=\"1\" class=\"dataframe\">\n",
              "  <thead>\n",
              "    <tr style=\"text-align: right;\">\n",
              "      <th></th>\n",
              "      <th>date</th>\n",
              "      <th>births</th>\n",
              "    </tr>\n",
              "  </thead>\n",
              "  <tbody>\n",
              "    <tr>\n",
              "      <th>0</th>\n",
              "      <td>1959-01-01</td>\n",
              "      <td>35</td>\n",
              "    </tr>\n",
              "    <tr>\n",
              "      <th>1</th>\n",
              "      <td>1959-01-02</td>\n",
              "      <td>32</td>\n",
              "    </tr>\n",
              "    <tr>\n",
              "      <th>2</th>\n",
              "      <td>1959-01-03</td>\n",
              "      <td>30</td>\n",
              "    </tr>\n",
              "    <tr>\n",
              "      <th>3</th>\n",
              "      <td>1959-01-04</td>\n",
              "      <td>31</td>\n",
              "    </tr>\n",
              "    <tr>\n",
              "      <th>4</th>\n",
              "      <td>1959-01-05</td>\n",
              "      <td>44</td>\n",
              "    </tr>\n",
              "  </tbody>\n",
              "</table>\n",
              "</div>"
            ],
            "text/plain": [
              "        date  births\n",
              "0 1959-01-01      35\n",
              "1 1959-01-02      32\n",
              "2 1959-01-03      30\n",
              "3 1959-01-04      31\n",
              "4 1959-01-05      44"
            ]
          },
          "metadata": {
            "tags": []
          },
          "execution_count": 48
        }
      ]
    },
    {
      "cell_type": "code",
      "metadata": {
        "id": "LgHIZaYmxwpn",
        "colab_type": "code",
        "colab": {}
      },
      "source": [
        "features['year']=df2['date'].dt.year"
      ],
      "execution_count": 0,
      "outputs": []
    },
    {
      "cell_type": "code",
      "metadata": {
        "id": "k4l7PwlYyWGG",
        "colab_type": "code",
        "outputId": "dc82912b-8434-4097-fc33-74439703dc1b",
        "colab": {
          "base_uri": "https://localhost:8080/",
          "height": 195
        }
      },
      "source": [
        "features.head()"
      ],
      "execution_count": 50,
      "outputs": [
        {
          "output_type": "execute_result",
          "data": {
            "text/html": [
              "<div>\n",
              "<style scoped>\n",
              "    .dataframe tbody tr th:only-of-type {\n",
              "        vertical-align: middle;\n",
              "    }\n",
              "\n",
              "    .dataframe tbody tr th {\n",
              "        vertical-align: top;\n",
              "    }\n",
              "\n",
              "    .dataframe thead th {\n",
              "        text-align: right;\n",
              "    }\n",
              "</style>\n",
              "<table border=\"1\" class=\"dataframe\">\n",
              "  <thead>\n",
              "    <tr style=\"text-align: right;\">\n",
              "      <th></th>\n",
              "      <th>date</th>\n",
              "      <th>births</th>\n",
              "      <th>year</th>\n",
              "    </tr>\n",
              "  </thead>\n",
              "  <tbody>\n",
              "    <tr>\n",
              "      <th>0</th>\n",
              "      <td>1959-01-01</td>\n",
              "      <td>35</td>\n",
              "      <td>1959</td>\n",
              "    </tr>\n",
              "    <tr>\n",
              "      <th>1</th>\n",
              "      <td>1959-01-02</td>\n",
              "      <td>32</td>\n",
              "      <td>1959</td>\n",
              "    </tr>\n",
              "    <tr>\n",
              "      <th>2</th>\n",
              "      <td>1959-01-03</td>\n",
              "      <td>30</td>\n",
              "      <td>1959</td>\n",
              "    </tr>\n",
              "    <tr>\n",
              "      <th>3</th>\n",
              "      <td>1959-01-04</td>\n",
              "      <td>31</td>\n",
              "      <td>1959</td>\n",
              "    </tr>\n",
              "    <tr>\n",
              "      <th>4</th>\n",
              "      <td>1959-01-05</td>\n",
              "      <td>44</td>\n",
              "      <td>1959</td>\n",
              "    </tr>\n",
              "  </tbody>\n",
              "</table>\n",
              "</div>"
            ],
            "text/plain": [
              "        date  births  year\n",
              "0 1959-01-01      35  1959\n",
              "1 1959-01-02      32  1959\n",
              "2 1959-01-03      30  1959\n",
              "3 1959-01-04      31  1959\n",
              "4 1959-01-05      44  1959"
            ]
          },
          "metadata": {
            "tags": []
          },
          "execution_count": 50
        }
      ]
    },
    {
      "cell_type": "code",
      "metadata": {
        "id": "aRcOOObKyY0B",
        "colab_type": "code",
        "colab": {}
      },
      "source": [
        "features['month']=df2['date'].dt.month"
      ],
      "execution_count": 0,
      "outputs": []
    },
    {
      "cell_type": "code",
      "metadata": {
        "id": "_icaAqdyyevO",
        "colab_type": "code",
        "colab": {}
      },
      "source": [
        "features['day']=df2['date'].dt.day"
      ],
      "execution_count": 0,
      "outputs": []
    },
    {
      "cell_type": "code",
      "metadata": {
        "id": "_8iRl6klyjuW",
        "colab_type": "code",
        "outputId": "c01f3b7e-96ac-47c4-f800-0edb179803de",
        "colab": {
          "base_uri": "https://localhost:8080/",
          "height": 195
        }
      },
      "source": [
        "features.head()"
      ],
      "execution_count": 53,
      "outputs": [
        {
          "output_type": "execute_result",
          "data": {
            "text/html": [
              "<div>\n",
              "<style scoped>\n",
              "    .dataframe tbody tr th:only-of-type {\n",
              "        vertical-align: middle;\n",
              "    }\n",
              "\n",
              "    .dataframe tbody tr th {\n",
              "        vertical-align: top;\n",
              "    }\n",
              "\n",
              "    .dataframe thead th {\n",
              "        text-align: right;\n",
              "    }\n",
              "</style>\n",
              "<table border=\"1\" class=\"dataframe\">\n",
              "  <thead>\n",
              "    <tr style=\"text-align: right;\">\n",
              "      <th></th>\n",
              "      <th>date</th>\n",
              "      <th>births</th>\n",
              "      <th>year</th>\n",
              "      <th>month</th>\n",
              "      <th>day</th>\n",
              "    </tr>\n",
              "  </thead>\n",
              "  <tbody>\n",
              "    <tr>\n",
              "      <th>0</th>\n",
              "      <td>1959-01-01</td>\n",
              "      <td>35</td>\n",
              "      <td>1959</td>\n",
              "      <td>1</td>\n",
              "      <td>1</td>\n",
              "    </tr>\n",
              "    <tr>\n",
              "      <th>1</th>\n",
              "      <td>1959-01-02</td>\n",
              "      <td>32</td>\n",
              "      <td>1959</td>\n",
              "      <td>1</td>\n",
              "      <td>2</td>\n",
              "    </tr>\n",
              "    <tr>\n",
              "      <th>2</th>\n",
              "      <td>1959-01-03</td>\n",
              "      <td>30</td>\n",
              "      <td>1959</td>\n",
              "      <td>1</td>\n",
              "      <td>3</td>\n",
              "    </tr>\n",
              "    <tr>\n",
              "      <th>3</th>\n",
              "      <td>1959-01-04</td>\n",
              "      <td>31</td>\n",
              "      <td>1959</td>\n",
              "      <td>1</td>\n",
              "      <td>4</td>\n",
              "    </tr>\n",
              "    <tr>\n",
              "      <th>4</th>\n",
              "      <td>1959-01-05</td>\n",
              "      <td>44</td>\n",
              "      <td>1959</td>\n",
              "      <td>1</td>\n",
              "      <td>5</td>\n",
              "    </tr>\n",
              "  </tbody>\n",
              "</table>\n",
              "</div>"
            ],
            "text/plain": [
              "        date  births  year  month  day\n",
              "0 1959-01-01      35  1959      1    1\n",
              "1 1959-01-02      32  1959      1    2\n",
              "2 1959-01-03      30  1959      1    3\n",
              "3 1959-01-04      31  1959      1    4\n",
              "4 1959-01-05      44  1959      1    5"
            ]
          },
          "metadata": {
            "tags": []
          },
          "execution_count": 53
        }
      ]
    },
    {
      "cell_type": "markdown",
      "metadata": {
        "id": "jdtStwjv0eUT",
        "colab_type": "text"
      },
      "source": [
        "Lag Features"
      ]
    },
    {
      "cell_type": "code",
      "metadata": {
        "id": "9UTXxxb-0iNk",
        "colab_type": "code",
        "colab": {}
      },
      "source": [
        "features['lag1']=df2['births'].shift(1)"
      ],
      "execution_count": 0,
      "outputs": []
    },
    {
      "cell_type": "code",
      "metadata": {
        "id": "xZlUBDwZ08NV",
        "colab_type": "code",
        "outputId": "1a16760d-16b6-4ad5-c5af-a69d1f769da7",
        "colab": {
          "base_uri": "https://localhost:8080/",
          "height": 195
        }
      },
      "source": [
        "features.head()"
      ],
      "execution_count": 55,
      "outputs": [
        {
          "output_type": "execute_result",
          "data": {
            "text/html": [
              "<div>\n",
              "<style scoped>\n",
              "    .dataframe tbody tr th:only-of-type {\n",
              "        vertical-align: middle;\n",
              "    }\n",
              "\n",
              "    .dataframe tbody tr th {\n",
              "        vertical-align: top;\n",
              "    }\n",
              "\n",
              "    .dataframe thead th {\n",
              "        text-align: right;\n",
              "    }\n",
              "</style>\n",
              "<table border=\"1\" class=\"dataframe\">\n",
              "  <thead>\n",
              "    <tr style=\"text-align: right;\">\n",
              "      <th></th>\n",
              "      <th>date</th>\n",
              "      <th>births</th>\n",
              "      <th>year</th>\n",
              "      <th>month</th>\n",
              "      <th>day</th>\n",
              "      <th>lag1</th>\n",
              "    </tr>\n",
              "  </thead>\n",
              "  <tbody>\n",
              "    <tr>\n",
              "      <th>0</th>\n",
              "      <td>1959-01-01</td>\n",
              "      <td>35</td>\n",
              "      <td>1959</td>\n",
              "      <td>1</td>\n",
              "      <td>1</td>\n",
              "      <td>NaN</td>\n",
              "    </tr>\n",
              "    <tr>\n",
              "      <th>1</th>\n",
              "      <td>1959-01-02</td>\n",
              "      <td>32</td>\n",
              "      <td>1959</td>\n",
              "      <td>1</td>\n",
              "      <td>2</td>\n",
              "      <td>35.0</td>\n",
              "    </tr>\n",
              "    <tr>\n",
              "      <th>2</th>\n",
              "      <td>1959-01-03</td>\n",
              "      <td>30</td>\n",
              "      <td>1959</td>\n",
              "      <td>1</td>\n",
              "      <td>3</td>\n",
              "      <td>32.0</td>\n",
              "    </tr>\n",
              "    <tr>\n",
              "      <th>3</th>\n",
              "      <td>1959-01-04</td>\n",
              "      <td>31</td>\n",
              "      <td>1959</td>\n",
              "      <td>1</td>\n",
              "      <td>4</td>\n",
              "      <td>30.0</td>\n",
              "    </tr>\n",
              "    <tr>\n",
              "      <th>4</th>\n",
              "      <td>1959-01-05</td>\n",
              "      <td>44</td>\n",
              "      <td>1959</td>\n",
              "      <td>1</td>\n",
              "      <td>5</td>\n",
              "      <td>31.0</td>\n",
              "    </tr>\n",
              "  </tbody>\n",
              "</table>\n",
              "</div>"
            ],
            "text/plain": [
              "        date  births  year  month  day  lag1\n",
              "0 1959-01-01      35  1959      1    1   NaN\n",
              "1 1959-01-02      32  1959      1    2  35.0\n",
              "2 1959-01-03      30  1959      1    3  32.0\n",
              "3 1959-01-04      31  1959      1    4  30.0\n",
              "4 1959-01-05      44  1959      1    5  31.0"
            ]
          },
          "metadata": {
            "tags": []
          },
          "execution_count": 55
        }
      ]
    },
    {
      "cell_type": "code",
      "metadata": {
        "id": "yMsV8V-T0_Ta",
        "colab_type": "code",
        "colab": {}
      },
      "source": [
        "features['lag2']=df2['births'].shift(365)"
      ],
      "execution_count": 0,
      "outputs": []
    },
    {
      "cell_type": "code",
      "metadata": {
        "id": "6crdqBO41HFh",
        "colab_type": "code",
        "outputId": "0a54821d-0432-4fb2-c4e5-3290e27e033e",
        "colab": {
          "base_uri": "https://localhost:8080/",
          "height": 195
        }
      },
      "source": [
        "features.head()"
      ],
      "execution_count": 57,
      "outputs": [
        {
          "output_type": "execute_result",
          "data": {
            "text/html": [
              "<div>\n",
              "<style scoped>\n",
              "    .dataframe tbody tr th:only-of-type {\n",
              "        vertical-align: middle;\n",
              "    }\n",
              "\n",
              "    .dataframe tbody tr th {\n",
              "        vertical-align: top;\n",
              "    }\n",
              "\n",
              "    .dataframe thead th {\n",
              "        text-align: right;\n",
              "    }\n",
              "</style>\n",
              "<table border=\"1\" class=\"dataframe\">\n",
              "  <thead>\n",
              "    <tr style=\"text-align: right;\">\n",
              "      <th></th>\n",
              "      <th>date</th>\n",
              "      <th>births</th>\n",
              "      <th>year</th>\n",
              "      <th>month</th>\n",
              "      <th>day</th>\n",
              "      <th>lag1</th>\n",
              "      <th>lag2</th>\n",
              "    </tr>\n",
              "  </thead>\n",
              "  <tbody>\n",
              "    <tr>\n",
              "      <th>0</th>\n",
              "      <td>1959-01-01</td>\n",
              "      <td>35</td>\n",
              "      <td>1959</td>\n",
              "      <td>1</td>\n",
              "      <td>1</td>\n",
              "      <td>NaN</td>\n",
              "      <td>NaN</td>\n",
              "    </tr>\n",
              "    <tr>\n",
              "      <th>1</th>\n",
              "      <td>1959-01-02</td>\n",
              "      <td>32</td>\n",
              "      <td>1959</td>\n",
              "      <td>1</td>\n",
              "      <td>2</td>\n",
              "      <td>35.0</td>\n",
              "      <td>NaN</td>\n",
              "    </tr>\n",
              "    <tr>\n",
              "      <th>2</th>\n",
              "      <td>1959-01-03</td>\n",
              "      <td>30</td>\n",
              "      <td>1959</td>\n",
              "      <td>1</td>\n",
              "      <td>3</td>\n",
              "      <td>32.0</td>\n",
              "      <td>NaN</td>\n",
              "    </tr>\n",
              "    <tr>\n",
              "      <th>3</th>\n",
              "      <td>1959-01-04</td>\n",
              "      <td>31</td>\n",
              "      <td>1959</td>\n",
              "      <td>1</td>\n",
              "      <td>4</td>\n",
              "      <td>30.0</td>\n",
              "      <td>NaN</td>\n",
              "    </tr>\n",
              "    <tr>\n",
              "      <th>4</th>\n",
              "      <td>1959-01-05</td>\n",
              "      <td>44</td>\n",
              "      <td>1959</td>\n",
              "      <td>1</td>\n",
              "      <td>5</td>\n",
              "      <td>31.0</td>\n",
              "      <td>NaN</td>\n",
              "    </tr>\n",
              "  </tbody>\n",
              "</table>\n",
              "</div>"
            ],
            "text/plain": [
              "        date  births  year  month  day  lag1  lag2\n",
              "0 1959-01-01      35  1959      1    1   NaN   NaN\n",
              "1 1959-01-02      32  1959      1    2  35.0   NaN\n",
              "2 1959-01-03      30  1959      1    3  32.0   NaN\n",
              "3 1959-01-04      31  1959      1    4  30.0   NaN\n",
              "4 1959-01-05      44  1959      1    5  31.0   NaN"
            ]
          },
          "metadata": {
            "tags": []
          },
          "execution_count": 57
        }
      ]
    },
    {
      "cell_type": "markdown",
      "metadata": {
        "id": "bMMs0xp3204D",
        "colab_type": "text"
      },
      "source": [
        "Window Features"
      ]
    },
    {
      "cell_type": "code",
      "metadata": {
        "id": "XJSSWdOm23yL",
        "colab_type": "code",
        "colab": {}
      },
      "source": [
        "features['mean']=df2['births'].rolling(window = 2).mean()"
      ],
      "execution_count": 0,
      "outputs": []
    },
    {
      "cell_type": "code",
      "metadata": {
        "id": "fPhuJbaH3BPW",
        "colab_type": "code",
        "outputId": "ee58a97e-7fd6-4800-beab-b0e3c2f49489",
        "colab": {
          "base_uri": "https://localhost:8080/",
          "height": 195
        }
      },
      "source": [
        "features.head()"
      ],
      "execution_count": 59,
      "outputs": [
        {
          "output_type": "execute_result",
          "data": {
            "text/html": [
              "<div>\n",
              "<style scoped>\n",
              "    .dataframe tbody tr th:only-of-type {\n",
              "        vertical-align: middle;\n",
              "    }\n",
              "\n",
              "    .dataframe tbody tr th {\n",
              "        vertical-align: top;\n",
              "    }\n",
              "\n",
              "    .dataframe thead th {\n",
              "        text-align: right;\n",
              "    }\n",
              "</style>\n",
              "<table border=\"1\" class=\"dataframe\">\n",
              "  <thead>\n",
              "    <tr style=\"text-align: right;\">\n",
              "      <th></th>\n",
              "      <th>date</th>\n",
              "      <th>births</th>\n",
              "      <th>year</th>\n",
              "      <th>month</th>\n",
              "      <th>day</th>\n",
              "      <th>lag1</th>\n",
              "      <th>lag2</th>\n",
              "      <th>mean</th>\n",
              "    </tr>\n",
              "  </thead>\n",
              "  <tbody>\n",
              "    <tr>\n",
              "      <th>0</th>\n",
              "      <td>1959-01-01</td>\n",
              "      <td>35</td>\n",
              "      <td>1959</td>\n",
              "      <td>1</td>\n",
              "      <td>1</td>\n",
              "      <td>NaN</td>\n",
              "      <td>NaN</td>\n",
              "      <td>NaN</td>\n",
              "    </tr>\n",
              "    <tr>\n",
              "      <th>1</th>\n",
              "      <td>1959-01-02</td>\n",
              "      <td>32</td>\n",
              "      <td>1959</td>\n",
              "      <td>1</td>\n",
              "      <td>2</td>\n",
              "      <td>35.0</td>\n",
              "      <td>NaN</td>\n",
              "      <td>33.5</td>\n",
              "    </tr>\n",
              "    <tr>\n",
              "      <th>2</th>\n",
              "      <td>1959-01-03</td>\n",
              "      <td>30</td>\n",
              "      <td>1959</td>\n",
              "      <td>1</td>\n",
              "      <td>3</td>\n",
              "      <td>32.0</td>\n",
              "      <td>NaN</td>\n",
              "      <td>31.0</td>\n",
              "    </tr>\n",
              "    <tr>\n",
              "      <th>3</th>\n",
              "      <td>1959-01-04</td>\n",
              "      <td>31</td>\n",
              "      <td>1959</td>\n",
              "      <td>1</td>\n",
              "      <td>4</td>\n",
              "      <td>30.0</td>\n",
              "      <td>NaN</td>\n",
              "      <td>30.5</td>\n",
              "    </tr>\n",
              "    <tr>\n",
              "      <th>4</th>\n",
              "      <td>1959-01-05</td>\n",
              "      <td>44</td>\n",
              "      <td>1959</td>\n",
              "      <td>1</td>\n",
              "      <td>5</td>\n",
              "      <td>31.0</td>\n",
              "      <td>NaN</td>\n",
              "      <td>37.5</td>\n",
              "    </tr>\n",
              "  </tbody>\n",
              "</table>\n",
              "</div>"
            ],
            "text/plain": [
              "        date  births  year  month  day  lag1  lag2  mean\n",
              "0 1959-01-01      35  1959      1    1   NaN   NaN   NaN\n",
              "1 1959-01-02      32  1959      1    2  35.0   NaN  33.5\n",
              "2 1959-01-03      30  1959      1    3  32.0   NaN  31.0\n",
              "3 1959-01-04      31  1959      1    4  30.0   NaN  30.5\n",
              "4 1959-01-05      44  1959      1    5  31.0   NaN  37.5"
            ]
          },
          "metadata": {
            "tags": []
          },
          "execution_count": 59
        }
      ]
    },
    {
      "cell_type": "code",
      "metadata": {
        "id": "YoYd6H9T3DsS",
        "colab_type": "code",
        "colab": {}
      },
      "source": [
        "features['max']=df2['births'].rolling(window = 3).max()"
      ],
      "execution_count": 0,
      "outputs": []
    },
    {
      "cell_type": "code",
      "metadata": {
        "id": "S-POZHpn3Mm2",
        "colab_type": "code",
        "outputId": "0602cb0c-b04c-4da0-d8d7-12f295ff672b",
        "colab": {
          "base_uri": "https://localhost:8080/",
          "height": 195
        }
      },
      "source": [
        "features.head()"
      ],
      "execution_count": 61,
      "outputs": [
        {
          "output_type": "execute_result",
          "data": {
            "text/html": [
              "<div>\n",
              "<style scoped>\n",
              "    .dataframe tbody tr th:only-of-type {\n",
              "        vertical-align: middle;\n",
              "    }\n",
              "\n",
              "    .dataframe tbody tr th {\n",
              "        vertical-align: top;\n",
              "    }\n",
              "\n",
              "    .dataframe thead th {\n",
              "        text-align: right;\n",
              "    }\n",
              "</style>\n",
              "<table border=\"1\" class=\"dataframe\">\n",
              "  <thead>\n",
              "    <tr style=\"text-align: right;\">\n",
              "      <th></th>\n",
              "      <th>date</th>\n",
              "      <th>births</th>\n",
              "      <th>year</th>\n",
              "      <th>month</th>\n",
              "      <th>day</th>\n",
              "      <th>lag1</th>\n",
              "      <th>lag2</th>\n",
              "      <th>mean</th>\n",
              "      <th>max</th>\n",
              "    </tr>\n",
              "  </thead>\n",
              "  <tbody>\n",
              "    <tr>\n",
              "      <th>0</th>\n",
              "      <td>1959-01-01</td>\n",
              "      <td>35</td>\n",
              "      <td>1959</td>\n",
              "      <td>1</td>\n",
              "      <td>1</td>\n",
              "      <td>NaN</td>\n",
              "      <td>NaN</td>\n",
              "      <td>NaN</td>\n",
              "      <td>NaN</td>\n",
              "    </tr>\n",
              "    <tr>\n",
              "      <th>1</th>\n",
              "      <td>1959-01-02</td>\n",
              "      <td>32</td>\n",
              "      <td>1959</td>\n",
              "      <td>1</td>\n",
              "      <td>2</td>\n",
              "      <td>35.0</td>\n",
              "      <td>NaN</td>\n",
              "      <td>33.5</td>\n",
              "      <td>NaN</td>\n",
              "    </tr>\n",
              "    <tr>\n",
              "      <th>2</th>\n",
              "      <td>1959-01-03</td>\n",
              "      <td>30</td>\n",
              "      <td>1959</td>\n",
              "      <td>1</td>\n",
              "      <td>3</td>\n",
              "      <td>32.0</td>\n",
              "      <td>NaN</td>\n",
              "      <td>31.0</td>\n",
              "      <td>35.0</td>\n",
              "    </tr>\n",
              "    <tr>\n",
              "      <th>3</th>\n",
              "      <td>1959-01-04</td>\n",
              "      <td>31</td>\n",
              "      <td>1959</td>\n",
              "      <td>1</td>\n",
              "      <td>4</td>\n",
              "      <td>30.0</td>\n",
              "      <td>NaN</td>\n",
              "      <td>30.5</td>\n",
              "      <td>32.0</td>\n",
              "    </tr>\n",
              "    <tr>\n",
              "      <th>4</th>\n",
              "      <td>1959-01-05</td>\n",
              "      <td>44</td>\n",
              "      <td>1959</td>\n",
              "      <td>1</td>\n",
              "      <td>5</td>\n",
              "      <td>31.0</td>\n",
              "      <td>NaN</td>\n",
              "      <td>37.5</td>\n",
              "      <td>44.0</td>\n",
              "    </tr>\n",
              "  </tbody>\n",
              "</table>\n",
              "</div>"
            ],
            "text/plain": [
              "        date  births  year  month  day  lag1  lag2  mean   max\n",
              "0 1959-01-01      35  1959      1    1   NaN   NaN   NaN   NaN\n",
              "1 1959-01-02      32  1959      1    2  35.0   NaN  33.5   NaN\n",
              "2 1959-01-03      30  1959      1    3  32.0   NaN  31.0  35.0\n",
              "3 1959-01-04      31  1959      1    4  30.0   NaN  30.5  32.0\n",
              "4 1959-01-05      44  1959      1    5  31.0   NaN  37.5  44.0"
            ]
          },
          "metadata": {
            "tags": []
          },
          "execution_count": 61
        }
      ]
    },
    {
      "cell_type": "markdown",
      "metadata": {
        "id": "Y8Dr4O3d3vE2",
        "colab_type": "text"
      },
      "source": [
        "Expanding Features"
      ]
    },
    {
      "cell_type": "code",
      "metadata": {
        "id": "ppyddmjR3ws6",
        "colab_type": "code",
        "colab": {}
      },
      "source": [
        "features['expand_max']=df2['births'].expanding().max()"
      ],
      "execution_count": 0,
      "outputs": []
    },
    {
      "cell_type": "code",
      "metadata": {
        "id": "gR6cyeD-4SDg",
        "colab_type": "code",
        "outputId": "577960a1-1d87-4aca-8c4a-bb3010007964",
        "colab": {
          "base_uri": "https://localhost:8080/",
          "height": 195
        }
      },
      "source": [
        "features.head()"
      ],
      "execution_count": 63,
      "outputs": [
        {
          "output_type": "execute_result",
          "data": {
            "text/html": [
              "<div>\n",
              "<style scoped>\n",
              "    .dataframe tbody tr th:only-of-type {\n",
              "        vertical-align: middle;\n",
              "    }\n",
              "\n",
              "    .dataframe tbody tr th {\n",
              "        vertical-align: top;\n",
              "    }\n",
              "\n",
              "    .dataframe thead th {\n",
              "        text-align: right;\n",
              "    }\n",
              "</style>\n",
              "<table border=\"1\" class=\"dataframe\">\n",
              "  <thead>\n",
              "    <tr style=\"text-align: right;\">\n",
              "      <th></th>\n",
              "      <th>date</th>\n",
              "      <th>births</th>\n",
              "      <th>year</th>\n",
              "      <th>month</th>\n",
              "      <th>day</th>\n",
              "      <th>lag1</th>\n",
              "      <th>lag2</th>\n",
              "      <th>mean</th>\n",
              "      <th>max</th>\n",
              "      <th>expand_max</th>\n",
              "    </tr>\n",
              "  </thead>\n",
              "  <tbody>\n",
              "    <tr>\n",
              "      <th>0</th>\n",
              "      <td>1959-01-01</td>\n",
              "      <td>35</td>\n",
              "      <td>1959</td>\n",
              "      <td>1</td>\n",
              "      <td>1</td>\n",
              "      <td>NaN</td>\n",
              "      <td>NaN</td>\n",
              "      <td>NaN</td>\n",
              "      <td>NaN</td>\n",
              "      <td>35.0</td>\n",
              "    </tr>\n",
              "    <tr>\n",
              "      <th>1</th>\n",
              "      <td>1959-01-02</td>\n",
              "      <td>32</td>\n",
              "      <td>1959</td>\n",
              "      <td>1</td>\n",
              "      <td>2</td>\n",
              "      <td>35.0</td>\n",
              "      <td>NaN</td>\n",
              "      <td>33.5</td>\n",
              "      <td>NaN</td>\n",
              "      <td>35.0</td>\n",
              "    </tr>\n",
              "    <tr>\n",
              "      <th>2</th>\n",
              "      <td>1959-01-03</td>\n",
              "      <td>30</td>\n",
              "      <td>1959</td>\n",
              "      <td>1</td>\n",
              "      <td>3</td>\n",
              "      <td>32.0</td>\n",
              "      <td>NaN</td>\n",
              "      <td>31.0</td>\n",
              "      <td>35.0</td>\n",
              "      <td>35.0</td>\n",
              "    </tr>\n",
              "    <tr>\n",
              "      <th>3</th>\n",
              "      <td>1959-01-04</td>\n",
              "      <td>31</td>\n",
              "      <td>1959</td>\n",
              "      <td>1</td>\n",
              "      <td>4</td>\n",
              "      <td>30.0</td>\n",
              "      <td>NaN</td>\n",
              "      <td>30.5</td>\n",
              "      <td>32.0</td>\n",
              "      <td>35.0</td>\n",
              "    </tr>\n",
              "    <tr>\n",
              "      <th>4</th>\n",
              "      <td>1959-01-05</td>\n",
              "      <td>44</td>\n",
              "      <td>1959</td>\n",
              "      <td>1</td>\n",
              "      <td>5</td>\n",
              "      <td>31.0</td>\n",
              "      <td>NaN</td>\n",
              "      <td>37.5</td>\n",
              "      <td>44.0</td>\n",
              "      <td>44.0</td>\n",
              "    </tr>\n",
              "  </tbody>\n",
              "</table>\n",
              "</div>"
            ],
            "text/plain": [
              "        date  births  year  month  day  lag1  lag2  mean   max  expand_max\n",
              "0 1959-01-01      35  1959      1    1   NaN   NaN   NaN   NaN        35.0\n",
              "1 1959-01-02      32  1959      1    2  35.0   NaN  33.5   NaN        35.0\n",
              "2 1959-01-03      30  1959      1    3  32.0   NaN  31.0  35.0        35.0\n",
              "3 1959-01-04      31  1959      1    4  30.0   NaN  30.5  32.0        35.0\n",
              "4 1959-01-05      44  1959      1    5  31.0   NaN  37.5  44.0        44.0"
            ]
          },
          "metadata": {
            "tags": []
          },
          "execution_count": 63
        }
      ]
    },
    {
      "cell_type": "markdown",
      "metadata": {
        "id": "FrZN84LM7b2-",
        "colab_type": "text"
      },
      "source": [
        "##Upsampling and Downsampling"
      ]
    },
    {
      "cell_type": "code",
      "metadata": {
        "id": "N_TghQiV7f7w",
        "colab_type": "code",
        "outputId": "b153fa70-c206-4d68-833c-078a8732f1f5",
        "colab": {
          "base_uri": "https://localhost:8080/",
          "height": 195
        }
      },
      "source": [
        "miles_df=pd.read_csv('us-airlines-monthly-aircraft-miles-flown.csv',header=0,parse_dates=[0])\n",
        "miles_df.head()"
      ],
      "execution_count": 64,
      "outputs": [
        {
          "output_type": "execute_result",
          "data": {
            "text/html": [
              "<div>\n",
              "<style scoped>\n",
              "    .dataframe tbody tr th:only-of-type {\n",
              "        vertical-align: middle;\n",
              "    }\n",
              "\n",
              "    .dataframe tbody tr th {\n",
              "        vertical-align: top;\n",
              "    }\n",
              "\n",
              "    .dataframe thead th {\n",
              "        text-align: right;\n",
              "    }\n",
              "</style>\n",
              "<table border=\"1\" class=\"dataframe\">\n",
              "  <thead>\n",
              "    <tr style=\"text-align: right;\">\n",
              "      <th></th>\n",
              "      <th>Month</th>\n",
              "      <th>MilesMM</th>\n",
              "    </tr>\n",
              "  </thead>\n",
              "  <tbody>\n",
              "    <tr>\n",
              "      <th>0</th>\n",
              "      <td>1963-01-01</td>\n",
              "      <td>6827</td>\n",
              "    </tr>\n",
              "    <tr>\n",
              "      <th>1</th>\n",
              "      <td>1963-02-01</td>\n",
              "      <td>6178</td>\n",
              "    </tr>\n",
              "    <tr>\n",
              "      <th>2</th>\n",
              "      <td>1963-03-01</td>\n",
              "      <td>7084</td>\n",
              "    </tr>\n",
              "    <tr>\n",
              "      <th>3</th>\n",
              "      <td>1963-04-01</td>\n",
              "      <td>8162</td>\n",
              "    </tr>\n",
              "    <tr>\n",
              "      <th>4</th>\n",
              "      <td>1963-05-01</td>\n",
              "      <td>8462</td>\n",
              "    </tr>\n",
              "  </tbody>\n",
              "</table>\n",
              "</div>"
            ],
            "text/plain": [
              "       Month  MilesMM\n",
              "0 1963-01-01     6827\n",
              "1 1963-02-01     6178\n",
              "2 1963-03-01     7084\n",
              "3 1963-04-01     8162\n",
              "4 1963-05-01     8462"
            ]
          },
          "metadata": {
            "tags": []
          },
          "execution_count": 64
        }
      ]
    },
    {
      "cell_type": "markdown",
      "metadata": {
        "id": "d-8rtSSR7yTk",
        "colab_type": "text"
      },
      "source": [
        "Downsampling"
      ]
    },
    {
      "cell_type": "code",
      "metadata": {
        "id": "2GEVr7ws7oLK",
        "colab_type": "code",
        "colab": {}
      },
      "source": [
        "quarterly_miles_df=miles_df.resample('Q', on='Month').mean()"
      ],
      "execution_count": 0,
      "outputs": []
    },
    {
      "cell_type": "code",
      "metadata": {
        "id": "Q0y52CWl8L45",
        "colab_type": "code",
        "outputId": "8970105b-9bb8-457f-a65b-a37dff6643d1",
        "colab": {
          "base_uri": "https://localhost:8080/",
          "height": 225
        }
      },
      "source": [
        "quarterly_miles_df.head()"
      ],
      "execution_count": 66,
      "outputs": [
        {
          "output_type": "execute_result",
          "data": {
            "text/html": [
              "<div>\n",
              "<style scoped>\n",
              "    .dataframe tbody tr th:only-of-type {\n",
              "        vertical-align: middle;\n",
              "    }\n",
              "\n",
              "    .dataframe tbody tr th {\n",
              "        vertical-align: top;\n",
              "    }\n",
              "\n",
              "    .dataframe thead th {\n",
              "        text-align: right;\n",
              "    }\n",
              "</style>\n",
              "<table border=\"1\" class=\"dataframe\">\n",
              "  <thead>\n",
              "    <tr style=\"text-align: right;\">\n",
              "      <th></th>\n",
              "      <th>MilesMM</th>\n",
              "    </tr>\n",
              "    <tr>\n",
              "      <th>Month</th>\n",
              "      <th></th>\n",
              "    </tr>\n",
              "  </thead>\n",
              "  <tbody>\n",
              "    <tr>\n",
              "      <th>1963-03-31</th>\n",
              "      <td>6696.333333</td>\n",
              "    </tr>\n",
              "    <tr>\n",
              "      <th>1963-06-30</th>\n",
              "      <td>8756.000000</td>\n",
              "    </tr>\n",
              "    <tr>\n",
              "      <th>1963-09-30</th>\n",
              "      <td>10392.333333</td>\n",
              "    </tr>\n",
              "    <tr>\n",
              "      <th>1963-12-31</th>\n",
              "      <td>7356.333333</td>\n",
              "    </tr>\n",
              "    <tr>\n",
              "      <th>1964-03-31</th>\n",
              "      <td>7287.666667</td>\n",
              "    </tr>\n",
              "  </tbody>\n",
              "</table>\n",
              "</div>"
            ],
            "text/plain": [
              "                 MilesMM\n",
              "Month                   \n",
              "1963-03-31   6696.333333\n",
              "1963-06-30   8756.000000\n",
              "1963-09-30  10392.333333\n",
              "1963-12-31   7356.333333\n",
              "1964-03-31   7287.666667"
            ]
          },
          "metadata": {
            "tags": []
          },
          "execution_count": 66
        }
      ]
    },
    {
      "cell_type": "code",
      "metadata": {
        "id": "VMMTjbWu8Vuc",
        "colab_type": "code",
        "colab": {}
      },
      "source": [
        "yearly_miles_df=miles_df.resample('A', on='Month').sum()"
      ],
      "execution_count": 0,
      "outputs": []
    },
    {
      "cell_type": "code",
      "metadata": {
        "id": "Q5QQRUrm8q_3",
        "colab_type": "code",
        "outputId": "59597721-7c44-47fa-d6b3-f8aaf8453346",
        "colab": {
          "base_uri": "https://localhost:8080/",
          "height": 225
        }
      },
      "source": [
        "yearly_miles_df.head()"
      ],
      "execution_count": 68,
      "outputs": [
        {
          "output_type": "execute_result",
          "data": {
            "text/html": [
              "<div>\n",
              "<style scoped>\n",
              "    .dataframe tbody tr th:only-of-type {\n",
              "        vertical-align: middle;\n",
              "    }\n",
              "\n",
              "    .dataframe tbody tr th {\n",
              "        vertical-align: top;\n",
              "    }\n",
              "\n",
              "    .dataframe thead th {\n",
              "        text-align: right;\n",
              "    }\n",
              "</style>\n",
              "<table border=\"1\" class=\"dataframe\">\n",
              "  <thead>\n",
              "    <tr style=\"text-align: right;\">\n",
              "      <th></th>\n",
              "      <th>MilesMM</th>\n",
              "    </tr>\n",
              "    <tr>\n",
              "      <th>Month</th>\n",
              "      <th></th>\n",
              "    </tr>\n",
              "  </thead>\n",
              "  <tbody>\n",
              "    <tr>\n",
              "      <th>1963-12-31</th>\n",
              "      <td>99603</td>\n",
              "    </tr>\n",
              "    <tr>\n",
              "      <th>1964-12-31</th>\n",
              "      <td>106192</td>\n",
              "    </tr>\n",
              "    <tr>\n",
              "      <th>1965-12-31</th>\n",
              "      <td>115431</td>\n",
              "    </tr>\n",
              "    <tr>\n",
              "      <th>1966-12-31</th>\n",
              "      <td>119154</td>\n",
              "    </tr>\n",
              "    <tr>\n",
              "      <th>1967-12-31</th>\n",
              "      <td>126515</td>\n",
              "    </tr>\n",
              "  </tbody>\n",
              "</table>\n",
              "</div>"
            ],
            "text/plain": [
              "            MilesMM\n",
              "Month              \n",
              "1963-12-31    99603\n",
              "1964-12-31   106192\n",
              "1965-12-31   115431\n",
              "1966-12-31   119154\n",
              "1967-12-31   126515"
            ]
          },
          "metadata": {
            "tags": []
          },
          "execution_count": 68
        }
      ]
    },
    {
      "cell_type": "markdown",
      "metadata": {
        "id": "KYoZ22cR-eN_",
        "colab_type": "text"
      },
      "source": [
        "Upsampling"
      ]
    },
    {
      "cell_type": "code",
      "metadata": {
        "id": "sJgjnXkQ-f92",
        "colab_type": "code",
        "colab": {}
      },
      "source": [
        "Upsample_miles_df=miles_df.resample('D', on='Month').mean()"
      ],
      "execution_count": 0,
      "outputs": []
    },
    {
      "cell_type": "code",
      "metadata": {
        "id": "-mcJvwlQ-rz6",
        "colab_type": "code",
        "outputId": "939ae516-4980-430d-c4b5-dca274a3e10f",
        "colab": {
          "base_uri": "https://localhost:8080/",
          "height": 1000
        }
      },
      "source": [
        "Upsample_miles_df.head(35)"
      ],
      "execution_count": 70,
      "outputs": [
        {
          "output_type": "execute_result",
          "data": {
            "text/html": [
              "<div>\n",
              "<style scoped>\n",
              "    .dataframe tbody tr th:only-of-type {\n",
              "        vertical-align: middle;\n",
              "    }\n",
              "\n",
              "    .dataframe tbody tr th {\n",
              "        vertical-align: top;\n",
              "    }\n",
              "\n",
              "    .dataframe thead th {\n",
              "        text-align: right;\n",
              "    }\n",
              "</style>\n",
              "<table border=\"1\" class=\"dataframe\">\n",
              "  <thead>\n",
              "    <tr style=\"text-align: right;\">\n",
              "      <th></th>\n",
              "      <th>MilesMM</th>\n",
              "    </tr>\n",
              "    <tr>\n",
              "      <th>Month</th>\n",
              "      <th></th>\n",
              "    </tr>\n",
              "  </thead>\n",
              "  <tbody>\n",
              "    <tr>\n",
              "      <th>1963-01-01</th>\n",
              "      <td>6827.0</td>\n",
              "    </tr>\n",
              "    <tr>\n",
              "      <th>1963-01-02</th>\n",
              "      <td>NaN</td>\n",
              "    </tr>\n",
              "    <tr>\n",
              "      <th>1963-01-03</th>\n",
              "      <td>NaN</td>\n",
              "    </tr>\n",
              "    <tr>\n",
              "      <th>1963-01-04</th>\n",
              "      <td>NaN</td>\n",
              "    </tr>\n",
              "    <tr>\n",
              "      <th>1963-01-05</th>\n",
              "      <td>NaN</td>\n",
              "    </tr>\n",
              "    <tr>\n",
              "      <th>1963-01-06</th>\n",
              "      <td>NaN</td>\n",
              "    </tr>\n",
              "    <tr>\n",
              "      <th>1963-01-07</th>\n",
              "      <td>NaN</td>\n",
              "    </tr>\n",
              "    <tr>\n",
              "      <th>1963-01-08</th>\n",
              "      <td>NaN</td>\n",
              "    </tr>\n",
              "    <tr>\n",
              "      <th>1963-01-09</th>\n",
              "      <td>NaN</td>\n",
              "    </tr>\n",
              "    <tr>\n",
              "      <th>1963-01-10</th>\n",
              "      <td>NaN</td>\n",
              "    </tr>\n",
              "    <tr>\n",
              "      <th>1963-01-11</th>\n",
              "      <td>NaN</td>\n",
              "    </tr>\n",
              "    <tr>\n",
              "      <th>1963-01-12</th>\n",
              "      <td>NaN</td>\n",
              "    </tr>\n",
              "    <tr>\n",
              "      <th>1963-01-13</th>\n",
              "      <td>NaN</td>\n",
              "    </tr>\n",
              "    <tr>\n",
              "      <th>1963-01-14</th>\n",
              "      <td>NaN</td>\n",
              "    </tr>\n",
              "    <tr>\n",
              "      <th>1963-01-15</th>\n",
              "      <td>NaN</td>\n",
              "    </tr>\n",
              "    <tr>\n",
              "      <th>1963-01-16</th>\n",
              "      <td>NaN</td>\n",
              "    </tr>\n",
              "    <tr>\n",
              "      <th>1963-01-17</th>\n",
              "      <td>NaN</td>\n",
              "    </tr>\n",
              "    <tr>\n",
              "      <th>1963-01-18</th>\n",
              "      <td>NaN</td>\n",
              "    </tr>\n",
              "    <tr>\n",
              "      <th>1963-01-19</th>\n",
              "      <td>NaN</td>\n",
              "    </tr>\n",
              "    <tr>\n",
              "      <th>1963-01-20</th>\n",
              "      <td>NaN</td>\n",
              "    </tr>\n",
              "    <tr>\n",
              "      <th>1963-01-21</th>\n",
              "      <td>NaN</td>\n",
              "    </tr>\n",
              "    <tr>\n",
              "      <th>1963-01-22</th>\n",
              "      <td>NaN</td>\n",
              "    </tr>\n",
              "    <tr>\n",
              "      <th>1963-01-23</th>\n",
              "      <td>NaN</td>\n",
              "    </tr>\n",
              "    <tr>\n",
              "      <th>1963-01-24</th>\n",
              "      <td>NaN</td>\n",
              "    </tr>\n",
              "    <tr>\n",
              "      <th>1963-01-25</th>\n",
              "      <td>NaN</td>\n",
              "    </tr>\n",
              "    <tr>\n",
              "      <th>1963-01-26</th>\n",
              "      <td>NaN</td>\n",
              "    </tr>\n",
              "    <tr>\n",
              "      <th>1963-01-27</th>\n",
              "      <td>NaN</td>\n",
              "    </tr>\n",
              "    <tr>\n",
              "      <th>1963-01-28</th>\n",
              "      <td>NaN</td>\n",
              "    </tr>\n",
              "    <tr>\n",
              "      <th>1963-01-29</th>\n",
              "      <td>NaN</td>\n",
              "    </tr>\n",
              "    <tr>\n",
              "      <th>1963-01-30</th>\n",
              "      <td>NaN</td>\n",
              "    </tr>\n",
              "    <tr>\n",
              "      <th>1963-01-31</th>\n",
              "      <td>NaN</td>\n",
              "    </tr>\n",
              "    <tr>\n",
              "      <th>1963-02-01</th>\n",
              "      <td>6178.0</td>\n",
              "    </tr>\n",
              "    <tr>\n",
              "      <th>1963-02-02</th>\n",
              "      <td>NaN</td>\n",
              "    </tr>\n",
              "    <tr>\n",
              "      <th>1963-02-03</th>\n",
              "      <td>NaN</td>\n",
              "    </tr>\n",
              "    <tr>\n",
              "      <th>1963-02-04</th>\n",
              "      <td>NaN</td>\n",
              "    </tr>\n",
              "  </tbody>\n",
              "</table>\n",
              "</div>"
            ],
            "text/plain": [
              "            MilesMM\n",
              "Month              \n",
              "1963-01-01   6827.0\n",
              "1963-01-02      NaN\n",
              "1963-01-03      NaN\n",
              "1963-01-04      NaN\n",
              "1963-01-05      NaN\n",
              "1963-01-06      NaN\n",
              "1963-01-07      NaN\n",
              "1963-01-08      NaN\n",
              "1963-01-09      NaN\n",
              "1963-01-10      NaN\n",
              "1963-01-11      NaN\n",
              "1963-01-12      NaN\n",
              "1963-01-13      NaN\n",
              "1963-01-14      NaN\n",
              "1963-01-15      NaN\n",
              "1963-01-16      NaN\n",
              "1963-01-17      NaN\n",
              "1963-01-18      NaN\n",
              "1963-01-19      NaN\n",
              "1963-01-20      NaN\n",
              "1963-01-21      NaN\n",
              "1963-01-22      NaN\n",
              "1963-01-23      NaN\n",
              "1963-01-24      NaN\n",
              "1963-01-25      NaN\n",
              "1963-01-26      NaN\n",
              "1963-01-27      NaN\n",
              "1963-01-28      NaN\n",
              "1963-01-29      NaN\n",
              "1963-01-30      NaN\n",
              "1963-01-31      NaN\n",
              "1963-02-01   6178.0\n",
              "1963-02-02      NaN\n",
              "1963-02-03      NaN\n",
              "1963-02-04      NaN"
            ]
          },
          "metadata": {
            "tags": []
          },
          "execution_count": 70
        }
      ]
    },
    {
      "cell_type": "code",
      "metadata": {
        "id": "APxl6_sB_DdM",
        "colab_type": "code",
        "colab": {}
      },
      "source": [
        "#To fill the values\n",
        "Interpolated_miles_df=Upsample_miles_df.interpolate(method='linear')"
      ],
      "execution_count": 0,
      "outputs": []
    },
    {
      "cell_type": "code",
      "metadata": {
        "id": "kNWXdJ8eAa3g",
        "colab_type": "code",
        "outputId": "85160788-85ec-4132-ac57-cb8d9293571c",
        "colab": {
          "base_uri": "https://localhost:8080/",
          "height": 1000
        }
      },
      "source": [
        "Interpolated_miles_df.head(35)"
      ],
      "execution_count": 72,
      "outputs": [
        {
          "output_type": "execute_result",
          "data": {
            "text/html": [
              "<div>\n",
              "<style scoped>\n",
              "    .dataframe tbody tr th:only-of-type {\n",
              "        vertical-align: middle;\n",
              "    }\n",
              "\n",
              "    .dataframe tbody tr th {\n",
              "        vertical-align: top;\n",
              "    }\n",
              "\n",
              "    .dataframe thead th {\n",
              "        text-align: right;\n",
              "    }\n",
              "</style>\n",
              "<table border=\"1\" class=\"dataframe\">\n",
              "  <thead>\n",
              "    <tr style=\"text-align: right;\">\n",
              "      <th></th>\n",
              "      <th>MilesMM</th>\n",
              "    </tr>\n",
              "    <tr>\n",
              "      <th>Month</th>\n",
              "      <th></th>\n",
              "    </tr>\n",
              "  </thead>\n",
              "  <tbody>\n",
              "    <tr>\n",
              "      <th>1963-01-01</th>\n",
              "      <td>6827.000000</td>\n",
              "    </tr>\n",
              "    <tr>\n",
              "      <th>1963-01-02</th>\n",
              "      <td>6806.064516</td>\n",
              "    </tr>\n",
              "    <tr>\n",
              "      <th>1963-01-03</th>\n",
              "      <td>6785.129032</td>\n",
              "    </tr>\n",
              "    <tr>\n",
              "      <th>1963-01-04</th>\n",
              "      <td>6764.193548</td>\n",
              "    </tr>\n",
              "    <tr>\n",
              "      <th>1963-01-05</th>\n",
              "      <td>6743.258065</td>\n",
              "    </tr>\n",
              "    <tr>\n",
              "      <th>1963-01-06</th>\n",
              "      <td>6722.322581</td>\n",
              "    </tr>\n",
              "    <tr>\n",
              "      <th>1963-01-07</th>\n",
              "      <td>6701.387097</td>\n",
              "    </tr>\n",
              "    <tr>\n",
              "      <th>1963-01-08</th>\n",
              "      <td>6680.451613</td>\n",
              "    </tr>\n",
              "    <tr>\n",
              "      <th>1963-01-09</th>\n",
              "      <td>6659.516129</td>\n",
              "    </tr>\n",
              "    <tr>\n",
              "      <th>1963-01-10</th>\n",
              "      <td>6638.580645</td>\n",
              "    </tr>\n",
              "    <tr>\n",
              "      <th>1963-01-11</th>\n",
              "      <td>6617.645161</td>\n",
              "    </tr>\n",
              "    <tr>\n",
              "      <th>1963-01-12</th>\n",
              "      <td>6596.709677</td>\n",
              "    </tr>\n",
              "    <tr>\n",
              "      <th>1963-01-13</th>\n",
              "      <td>6575.774194</td>\n",
              "    </tr>\n",
              "    <tr>\n",
              "      <th>1963-01-14</th>\n",
              "      <td>6554.838710</td>\n",
              "    </tr>\n",
              "    <tr>\n",
              "      <th>1963-01-15</th>\n",
              "      <td>6533.903226</td>\n",
              "    </tr>\n",
              "    <tr>\n",
              "      <th>1963-01-16</th>\n",
              "      <td>6512.967742</td>\n",
              "    </tr>\n",
              "    <tr>\n",
              "      <th>1963-01-17</th>\n",
              "      <td>6492.032258</td>\n",
              "    </tr>\n",
              "    <tr>\n",
              "      <th>1963-01-18</th>\n",
              "      <td>6471.096774</td>\n",
              "    </tr>\n",
              "    <tr>\n",
              "      <th>1963-01-19</th>\n",
              "      <td>6450.161290</td>\n",
              "    </tr>\n",
              "    <tr>\n",
              "      <th>1963-01-20</th>\n",
              "      <td>6429.225806</td>\n",
              "    </tr>\n",
              "    <tr>\n",
              "      <th>1963-01-21</th>\n",
              "      <td>6408.290323</td>\n",
              "    </tr>\n",
              "    <tr>\n",
              "      <th>1963-01-22</th>\n",
              "      <td>6387.354839</td>\n",
              "    </tr>\n",
              "    <tr>\n",
              "      <th>1963-01-23</th>\n",
              "      <td>6366.419355</td>\n",
              "    </tr>\n",
              "    <tr>\n",
              "      <th>1963-01-24</th>\n",
              "      <td>6345.483871</td>\n",
              "    </tr>\n",
              "    <tr>\n",
              "      <th>1963-01-25</th>\n",
              "      <td>6324.548387</td>\n",
              "    </tr>\n",
              "    <tr>\n",
              "      <th>1963-01-26</th>\n",
              "      <td>6303.612903</td>\n",
              "    </tr>\n",
              "    <tr>\n",
              "      <th>1963-01-27</th>\n",
              "      <td>6282.677419</td>\n",
              "    </tr>\n",
              "    <tr>\n",
              "      <th>1963-01-28</th>\n",
              "      <td>6261.741935</td>\n",
              "    </tr>\n",
              "    <tr>\n",
              "      <th>1963-01-29</th>\n",
              "      <td>6240.806452</td>\n",
              "    </tr>\n",
              "    <tr>\n",
              "      <th>1963-01-30</th>\n",
              "      <td>6219.870968</td>\n",
              "    </tr>\n",
              "    <tr>\n",
              "      <th>1963-01-31</th>\n",
              "      <td>6198.935484</td>\n",
              "    </tr>\n",
              "    <tr>\n",
              "      <th>1963-02-01</th>\n",
              "      <td>6178.000000</td>\n",
              "    </tr>\n",
              "    <tr>\n",
              "      <th>1963-02-02</th>\n",
              "      <td>6210.357143</td>\n",
              "    </tr>\n",
              "    <tr>\n",
              "      <th>1963-02-03</th>\n",
              "      <td>6242.714286</td>\n",
              "    </tr>\n",
              "    <tr>\n",
              "      <th>1963-02-04</th>\n",
              "      <td>6275.071429</td>\n",
              "    </tr>\n",
              "  </tbody>\n",
              "</table>\n",
              "</div>"
            ],
            "text/plain": [
              "                MilesMM\n",
              "Month                  \n",
              "1963-01-01  6827.000000\n",
              "1963-01-02  6806.064516\n",
              "1963-01-03  6785.129032\n",
              "1963-01-04  6764.193548\n",
              "1963-01-05  6743.258065\n",
              "1963-01-06  6722.322581\n",
              "1963-01-07  6701.387097\n",
              "1963-01-08  6680.451613\n",
              "1963-01-09  6659.516129\n",
              "1963-01-10  6638.580645\n",
              "1963-01-11  6617.645161\n",
              "1963-01-12  6596.709677\n",
              "1963-01-13  6575.774194\n",
              "1963-01-14  6554.838710\n",
              "1963-01-15  6533.903226\n",
              "1963-01-16  6512.967742\n",
              "1963-01-17  6492.032258\n",
              "1963-01-18  6471.096774\n",
              "1963-01-19  6450.161290\n",
              "1963-01-20  6429.225806\n",
              "1963-01-21  6408.290323\n",
              "1963-01-22  6387.354839\n",
              "1963-01-23  6366.419355\n",
              "1963-01-24  6345.483871\n",
              "1963-01-25  6324.548387\n",
              "1963-01-26  6303.612903\n",
              "1963-01-27  6282.677419\n",
              "1963-01-28  6261.741935\n",
              "1963-01-29  6240.806452\n",
              "1963-01-30  6219.870968\n",
              "1963-01-31  6198.935484\n",
              "1963-02-01  6178.000000\n",
              "1963-02-02  6210.357143\n",
              "1963-02-03  6242.714286\n",
              "1963-02-04  6275.071429"
            ]
          },
          "metadata": {
            "tags": []
          },
          "execution_count": 72
        }
      ]
    },
    {
      "cell_type": "code",
      "metadata": {
        "id": "oJBrCdDZBbCp",
        "colab_type": "code",
        "outputId": "14a344f5-b6b0-41ea-fb33-d92d26d49bc6",
        "colab": {
          "base_uri": "https://localhost:8080/",
          "height": 297
        }
      },
      "source": [
        "Interpolated_miles_df.plot()"
      ],
      "execution_count": 73,
      "outputs": [
        {
          "output_type": "execute_result",
          "data": {
            "text/plain": [
              "<matplotlib.axes._subplots.AxesSubplot at 0x7fafa54c0358>"
            ]
          },
          "metadata": {
            "tags": []
          },
          "execution_count": 73
        },
        {
          "output_type": "display_data",
          "data": {
            "image/png": "[encoded data removed]",
            "text/plain": [
              "<Figure size 432x288 with 1 Axes>"
            ]
          },
          "metadata": {
            "tags": [],
            "needs_background": "light"
          }
        }
      ]
    },
    {
      "cell_type": "code",
      "metadata": {
        "id": "cx77thNECrtc",
        "colab_type": "code",
        "colab": {}
      },
      "source": [
        "#To get more smooth edges\n",
        "poly_interpolated_miles_df=Upsample_miles_df.interpolate(method='spline',order=2)"
      ],
      "execution_count": 0,
      "outputs": []
    },
    {
      "cell_type": "code",
      "metadata": {
        "id": "AcWhIp1jDFz8",
        "colab_type": "code",
        "outputId": "21837085-cb50-4d40-df35-6e30c5b0d46e",
        "colab": {
          "base_uri": "https://localhost:8080/",
          "height": 1000
        }
      },
      "source": [
        "poly_interpolated_miles_df.head(35)"
      ],
      "execution_count": 75,
      "outputs": [
        {
          "output_type": "execute_result",
          "data": {
            "text/html": [
              "<div>\n",
              "<style scoped>\n",
              "    .dataframe tbody tr th:only-of-type {\n",
              "        vertical-align: middle;\n",
              "    }\n",
              "\n",
              "    .dataframe tbody tr th {\n",
              "        vertical-align: top;\n",
              "    }\n",
              "\n",
              "    .dataframe thead th {\n",
              "        text-align: right;\n",
              "    }\n",
              "</style>\n",
              "<table border=\"1\" class=\"dataframe\">\n",
              "  <thead>\n",
              "    <tr style=\"text-align: right;\">\n",
              "      <th></th>\n",
              "      <th>MilesMM</th>\n",
              "    </tr>\n",
              "    <tr>\n",
              "      <th>Month</th>\n",
              "      <th></th>\n",
              "    </tr>\n",
              "  </thead>\n",
              "  <tbody>\n",
              "    <tr>\n",
              "      <th>1963-01-01</th>\n",
              "      <td>6827.000000</td>\n",
              "    </tr>\n",
              "    <tr>\n",
              "      <th>1963-01-02</th>\n",
              "      <td>6775.328886</td>\n",
              "    </tr>\n",
              "    <tr>\n",
              "      <th>1963-01-03</th>\n",
              "      <td>6725.739829</td>\n",
              "    </tr>\n",
              "    <tr>\n",
              "      <th>1963-01-04</th>\n",
              "      <td>6678.197709</td>\n",
              "    </tr>\n",
              "    <tr>\n",
              "      <th>1963-01-05</th>\n",
              "      <td>6632.702526</td>\n",
              "    </tr>\n",
              "    <tr>\n",
              "      <th>1963-01-06</th>\n",
              "      <td>6589.254280</td>\n",
              "    </tr>\n",
              "    <tr>\n",
              "      <th>1963-01-07</th>\n",
              "      <td>6547.852971</td>\n",
              "    </tr>\n",
              "    <tr>\n",
              "      <th>1963-01-08</th>\n",
              "      <td>6508.498600</td>\n",
              "    </tr>\n",
              "    <tr>\n",
              "      <th>1963-01-09</th>\n",
              "      <td>6471.191166</td>\n",
              "    </tr>\n",
              "    <tr>\n",
              "      <th>1963-01-10</th>\n",
              "      <td>6435.930669</td>\n",
              "    </tr>\n",
              "    <tr>\n",
              "      <th>1963-01-11</th>\n",
              "      <td>6402.717110</td>\n",
              "    </tr>\n",
              "    <tr>\n",
              "      <th>1963-01-12</th>\n",
              "      <td>6371.550488</td>\n",
              "    </tr>\n",
              "    <tr>\n",
              "      <th>1963-01-13</th>\n",
              "      <td>6342.430803</td>\n",
              "    </tr>\n",
              "    <tr>\n",
              "      <th>1963-01-14</th>\n",
              "      <td>6315.358055</td>\n",
              "    </tr>\n",
              "    <tr>\n",
              "      <th>1963-01-15</th>\n",
              "      <td>6290.332244</td>\n",
              "    </tr>\n",
              "    <tr>\n",
              "      <th>1963-01-16</th>\n",
              "      <td>6267.353371</td>\n",
              "    </tr>\n",
              "    <tr>\n",
              "      <th>1963-01-17</th>\n",
              "      <td>6246.421435</td>\n",
              "    </tr>\n",
              "    <tr>\n",
              "      <th>1963-01-18</th>\n",
              "      <td>6227.536436</td>\n",
              "    </tr>\n",
              "    <tr>\n",
              "      <th>1963-01-19</th>\n",
              "      <td>6210.698374</td>\n",
              "    </tr>\n",
              "    <tr>\n",
              "      <th>1963-01-20</th>\n",
              "      <td>6195.907250</td>\n",
              "    </tr>\n",
              "    <tr>\n",
              "      <th>1963-01-21</th>\n",
              "      <td>6183.163063</td>\n",
              "    </tr>\n",
              "    <tr>\n",
              "      <th>1963-01-22</th>\n",
              "      <td>6172.465813</td>\n",
              "    </tr>\n",
              "    <tr>\n",
              "      <th>1963-01-23</th>\n",
              "      <td>6163.815500</td>\n",
              "    </tr>\n",
              "    <tr>\n",
              "      <th>1963-01-24</th>\n",
              "      <td>6157.212125</td>\n",
              "    </tr>\n",
              "    <tr>\n",
              "      <th>1963-01-25</th>\n",
              "      <td>6152.655687</td>\n",
              "    </tr>\n",
              "    <tr>\n",
              "      <th>1963-01-26</th>\n",
              "      <td>6150.146186</td>\n",
              "    </tr>\n",
              "    <tr>\n",
              "      <th>1963-01-27</th>\n",
              "      <td>6149.683622</td>\n",
              "    </tr>\n",
              "    <tr>\n",
              "      <th>1963-01-28</th>\n",
              "      <td>6151.267995</td>\n",
              "    </tr>\n",
              "    <tr>\n",
              "      <th>1963-01-29</th>\n",
              "      <td>6154.899306</td>\n",
              "    </tr>\n",
              "    <tr>\n",
              "      <th>1963-01-30</th>\n",
              "      <td>6160.577554</td>\n",
              "    </tr>\n",
              "    <tr>\n",
              "      <th>1963-01-31</th>\n",
              "      <td>6168.302739</td>\n",
              "    </tr>\n",
              "    <tr>\n",
              "      <th>1963-02-01</th>\n",
              "      <td>6178.000000</td>\n",
              "    </tr>\n",
              "    <tr>\n",
              "      <th>1963-02-02</th>\n",
              "      <td>6189.893921</td>\n",
              "    </tr>\n",
              "    <tr>\n",
              "      <th>1963-02-03</th>\n",
              "      <td>6203.759918</td>\n",
              "    </tr>\n",
              "    <tr>\n",
              "      <th>1963-02-04</th>\n",
              "      <td>6219.672853</td>\n",
              "    </tr>\n",
              "  </tbody>\n",
              "</table>\n",
              "</div>"
            ],
            "text/plain": [
              "                MilesMM\n",
              "Month                  \n",
              "1963-01-01  6827.000000\n",
              "1963-01-02  6775.328886\n",
              "1963-01-03  6725.739829\n",
              "1963-01-04  6678.197709\n",
              "1963-01-05  6632.702526\n",
              "1963-01-06  6589.254280\n",
              "1963-01-07  6547.852971\n",
              "1963-01-08  6508.498600\n",
              "1963-01-09  6471.191166\n",
              "1963-01-10  6435.930669\n",
              "1963-01-11  6402.717110\n",
              "1963-01-12  6371.550488\n",
              "1963-01-13  6342.430803\n",
              "1963-01-14  6315.358055\n",
              "1963-01-15  6290.332244\n",
              "1963-01-16  6267.353371\n",
              "1963-01-17  6246.421435\n",
              "1963-01-18  6227.536436\n",
              "1963-01-19  6210.698374\n",
              "1963-01-20  6195.907250\n",
              "1963-01-21  6183.163063\n",
              "1963-01-22  6172.465813\n",
              "1963-01-23  6163.815500\n",
              "1963-01-24  6157.212125\n",
              "1963-01-25  6152.655687\n",
              "1963-01-26  6150.146186\n",
              "1963-01-27  6149.683622\n",
              "1963-01-28  6151.267995\n",
              "1963-01-29  6154.899306\n",
              "1963-01-30  6160.577554\n",
              "1963-01-31  6168.302739\n",
              "1963-02-01  6178.000000\n",
              "1963-02-02  6189.893921\n",
              "1963-02-03  6203.759918\n",
              "1963-02-04  6219.672853"
            ]
          },
          "metadata": {
            "tags": []
          },
          "execution_count": 75
        }
      ]
    },
    {
      "cell_type": "code",
      "metadata": {
        "id": "waa7A-1yDO-3",
        "colab_type": "code",
        "outputId": "309df2aa-e97e-45f9-c0d5-6a2d4767449b",
        "colab": {
          "base_uri": "https://localhost:8080/",
          "height": 297
        }
      },
      "source": [
        "poly_interpolated_miles_df.plot()"
      ],
      "execution_count": 76,
      "outputs": [
        {
          "output_type": "execute_result",
          "data": {
            "text/plain": [
              "<matplotlib.axes._subplots.AxesSubplot at 0x7fafa546c5c0>"
            ]
          },
          "metadata": {
            "tags": []
          },
          "execution_count": 76
        },
        {
          "output_type": "display_data",
          "data": {
            "image/png": "[encoded data removed]",
            "text/plain": [
              "<Figure size 432x288 with 1 Axes>"
            ]
          },
          "metadata": {
            "tags": [],
            "needs_background": "light"
          }
        }
      ]
    },
    {
      "cell_type": "markdown",
      "metadata": {
        "id": "tQ5BBkrhxv4M",
        "colab_type": "text"
      },
      "source": [
        "#Decomposing Time Series"
      ]
    },
    {
      "cell_type": "code",
      "metadata": {
        "id": "lEad3iIcyo9A",
        "colab_type": "code",
        "colab": {}
      },
      "source": [
        "from statsmodels.tsa.seasonal import seasonal_decompose"
      ],
      "execution_count": 0,
      "outputs": []
    },
    {
      "cell_type": "code",
      "metadata": {
        "id": "k7sx_TQ0y70F",
        "colab_type": "code",
        "colab": {}
      },
      "source": [
        "miles_decomp_df=miles_df.copy()"
      ],
      "execution_count": 0,
      "outputs": []
    },
    {
      "cell_type": "code",
      "metadata": {
        "id": "LsnU86SgzCiD",
        "colab_type": "code",
        "colab": {
          "base_uri": "https://localhost:8080/",
          "height": 195
        },
        "outputId": "6948c1d9-bf5a-4009-fa77-45b2475671a6"
      },
      "source": [
        "miles_decomp_df.head()"
      ],
      "execution_count": 80,
      "outputs": [
        {
          "output_type": "execute_result",
          "data": {
            "text/html": [
              "<div>\n",
              "<style scoped>\n",
              "    .dataframe tbody tr th:only-of-type {\n",
              "        vertical-align: middle;\n",
              "    }\n",
              "\n",
              "    .dataframe tbody tr th {\n",
              "        vertical-align: top;\n",
              "    }\n",
              "\n",
              "    .dataframe thead th {\n",
              "        text-align: right;\n",
              "    }\n",
              "</style>\n",
              "<table border=\"1\" class=\"dataframe\">\n",
              "  <thead>\n",
              "    <tr style=\"text-align: right;\">\n",
              "      <th></th>\n",
              "      <th>Month</th>\n",
              "      <th>MilesMM</th>\n",
              "    </tr>\n",
              "  </thead>\n",
              "  <tbody>\n",
              "    <tr>\n",
              "      <th>0</th>\n",
              "      <td>1963-01-01</td>\n",
              "      <td>6827</td>\n",
              "    </tr>\n",
              "    <tr>\n",
              "      <th>1</th>\n",
              "      <td>1963-02-01</td>\n",
              "      <td>6178</td>\n",
              "    </tr>\n",
              "    <tr>\n",
              "      <th>2</th>\n",
              "      <td>1963-03-01</td>\n",
              "      <td>7084</td>\n",
              "    </tr>\n",
              "    <tr>\n",
              "      <th>3</th>\n",
              "      <td>1963-04-01</td>\n",
              "      <td>8162</td>\n",
              "    </tr>\n",
              "    <tr>\n",
              "      <th>4</th>\n",
              "      <td>1963-05-01</td>\n",
              "      <td>8462</td>\n",
              "    </tr>\n",
              "  </tbody>\n",
              "</table>\n",
              "</div>"
            ],
            "text/plain": [
              "       Month  MilesMM\n",
              "0 1963-01-01     6827\n",
              "1 1963-02-01     6178\n",
              "2 1963-03-01     7084\n",
              "3 1963-04-01     8162\n",
              "4 1963-05-01     8462"
            ]
          },
          "metadata": {
            "tags": []
          },
          "execution_count": 80
        }
      ]
    },
    {
      "cell_type": "code",
      "metadata": {
        "id": "P3OAMavozO2g",
        "colab_type": "code",
        "colab": {}
      },
      "source": [
        "miles_decomp_df.index=miles_decomp_df['Month']"
      ],
      "execution_count": 0,
      "outputs": []
    },
    {
      "cell_type": "code",
      "metadata": {
        "id": "jLLJeLwizefB",
        "colab_type": "code",
        "colab": {
          "base_uri": "https://localhost:8080/",
          "height": 225
        },
        "outputId": "2397e5f4-4c63-47e6-9f9a-64ea77af5220"
      },
      "source": [
        "miles_decomp_df.head()"
      ],
      "execution_count": 82,
      "outputs": [
        {
          "output_type": "execute_result",
          "data": {
            "text/html": [
              "<div>\n",
              "<style scoped>\n",
              "    .dataframe tbody tr th:only-of-type {\n",
              "        vertical-align: middle;\n",
              "    }\n",
              "\n",
              "    .dataframe tbody tr th {\n",
              "        vertical-align: top;\n",
              "    }\n",
              "\n",
              "    .dataframe thead th {\n",
              "        text-align: right;\n",
              "    }\n",
              "</style>\n",
              "<table border=\"1\" class=\"dataframe\">\n",
              "  <thead>\n",
              "    <tr style=\"text-align: right;\">\n",
              "      <th></th>\n",
              "      <th>Month</th>\n",
              "      <th>MilesMM</th>\n",
              "    </tr>\n",
              "    <tr>\n",
              "      <th>Month</th>\n",
              "      <th></th>\n",
              "      <th></th>\n",
              "    </tr>\n",
              "  </thead>\n",
              "  <tbody>\n",
              "    <tr>\n",
              "      <th>1963-01-01</th>\n",
              "      <td>1963-01-01</td>\n",
              "      <td>6827</td>\n",
              "    </tr>\n",
              "    <tr>\n",
              "      <th>1963-02-01</th>\n",
              "      <td>1963-02-01</td>\n",
              "      <td>6178</td>\n",
              "    </tr>\n",
              "    <tr>\n",
              "      <th>1963-03-01</th>\n",
              "      <td>1963-03-01</td>\n",
              "      <td>7084</td>\n",
              "    </tr>\n",
              "    <tr>\n",
              "      <th>1963-04-01</th>\n",
              "      <td>1963-04-01</td>\n",
              "      <td>8162</td>\n",
              "    </tr>\n",
              "    <tr>\n",
              "      <th>1963-05-01</th>\n",
              "      <td>1963-05-01</td>\n",
              "      <td>8462</td>\n",
              "    </tr>\n",
              "  </tbody>\n",
              "</table>\n",
              "</div>"
            ],
            "text/plain": [
              "                Month  MilesMM\n",
              "Month                         \n",
              "1963-01-01 1963-01-01     6827\n",
              "1963-02-01 1963-02-01     6178\n",
              "1963-03-01 1963-03-01     7084\n",
              "1963-04-01 1963-04-01     8162\n",
              "1963-05-01 1963-05-01     8462"
            ]
          },
          "metadata": {
            "tags": []
          },
          "execution_count": 82
        }
      ]
    },
    {
      "cell_type": "markdown",
      "metadata": {
        "id": "CKuen_Qhx2EY",
        "colab_type": "text"
      },
      "source": [
        "Additive Model\n",
        "\n",
        "y(t)= Level+Trend+Seasonality+Noise"
      ]
    },
    {
      "cell_type": "code",
      "metadata": {
        "id": "mRnoX2S-zhXT",
        "colab_type": "code",
        "colab": {}
      },
      "source": [
        "result1=seasonal_decompose(miles_decomp_df['MilesMM'],model='additive')"
      ],
      "execution_count": 0,
      "outputs": []
    },
    {
      "cell_type": "code",
      "metadata": {
        "id": "TVsM7_1-z6np",
        "colab_type": "code",
        "colab": {
          "base_uri": "https://localhost:8080/",
          "height": 577
        },
        "outputId": "83d96f8a-062b-4d1d-ee7f-652592212326"
      },
      "source": [
        "result1.plot()"
      ],
      "execution_count": 87,
      "outputs": [
        {
          "output_type": "execute_result",
          "data": {
            "image/png": "[encoded data removed]",
            "text/plain": [
              "<Figure size 432x288 with 4 Axes>"
            ]
          },
          "metadata": {
            "tags": []
          },
          "execution_count": 87
        },
        {
          "output_type": "display_data",
          "data": {
            "image/png": "[encoded data removed]",
            "text/plain": [
              "<Figure size 432x288 with 4 Axes>"
            ]
          },
          "metadata": {
            "tags": [],
            "needs_background": "light"
          }
        }
      ]
    },
    {
      "cell_type": "markdown",
      "metadata": {
        "id": "PYenTezy0uMp",
        "colab_type": "text"
      },
      "source": [
        "Multiplicative Model\n",
        "\n",
        "y(t)= Level* Trend * Seasonaility * Noise"
      ]
    },
    {
      "cell_type": "code",
      "metadata": {
        "id": "24myDzSw1Doj",
        "colab_type": "code",
        "colab": {}
      },
      "source": [
        "result2=seasonal_decompose(miles_decomp_df['MilesMM'],model='multiplicative')"
      ],
      "execution_count": 0,
      "outputs": []
    },
    {
      "cell_type": "code",
      "metadata": {
        "id": "yp3ukWw-1NpY",
        "colab_type": "code",
        "colab": {
          "base_uri": "https://localhost:8080/",
          "height": 579
        },
        "outputId": "1d1deb74-d5c3-4315-bafa-435e941fdaf8"
      },
      "source": [
        "result2.plot()"
      ],
      "execution_count": 91,
      "outputs": [
        {
          "output_type": "execute_result",
          "data": {
            "image/png": "[encoded data removed]",
            "text/plain": [
              "<Figure size 432x288 with 4 Axes>"
            ]
          },
          "metadata": {
            "tags": []
          },
          "execution_count": 91
        },
        {
          "output_type": "display_data",
          "data": {
            "image/png": "[encoded data removed]",
            "text/plain": [
              "<Figure size 432x288 with 4 Axes>"
            ]
          },
          "metadata": {
            "tags": [],
            "needs_background": "light"
          }
        }
      ]
    },
    {
      "cell_type": "markdown",
      "metadata": {
        "id": "lz4Mtsp8_STe",
        "colab_type": "text"
      },
      "source": [
        "##Differencing"
      ]
    },
    {
      "cell_type": "code",
      "metadata": {
        "id": "J-pmqFgD180F",
        "colab_type": "code",
        "colab": {}
      },
      "source": [
        "miles_df['lag1']=miles_df['MilesMM'].shift(1)"
      ],
      "execution_count": 0,
      "outputs": []
    },
    {
      "cell_type": "code",
      "metadata": {
        "id": "iPS4efy2_z0N",
        "colab_type": "code",
        "colab": {
          "base_uri": "https://localhost:8080/",
          "height": 195
        },
        "outputId": "2f24e0e3-35f3-473d-bb19-9cff4bc41c18"
      },
      "source": [
        "miles_df.head()"
      ],
      "execution_count": 96,
      "outputs": [
        {
          "output_type": "execute_result",
          "data": {
            "text/html": [
              "<div>\n",
              "<style scoped>\n",
              "    .dataframe tbody tr th:only-of-type {\n",
              "        vertical-align: middle;\n",
              "    }\n",
              "\n",
              "    .dataframe tbody tr th {\n",
              "        vertical-align: top;\n",
              "    }\n",
              "\n",
              "    .dataframe thead th {\n",
              "        text-align: right;\n",
              "    }\n",
              "</style>\n",
              "<table border=\"1\" class=\"dataframe\">\n",
              "  <thead>\n",
              "    <tr style=\"text-align: right;\">\n",
              "      <th></th>\n",
              "      <th>Month</th>\n",
              "      <th>MilesMM</th>\n",
              "      <th>lag1</th>\n",
              "    </tr>\n",
              "  </thead>\n",
              "  <tbody>\n",
              "    <tr>\n",
              "      <th>0</th>\n",
              "      <td>1963-01-01</td>\n",
              "      <td>6827</td>\n",
              "      <td>NaN</td>\n",
              "    </tr>\n",
              "    <tr>\n",
              "      <th>1</th>\n",
              "      <td>1963-02-01</td>\n",
              "      <td>6178</td>\n",
              "      <td>6827.0</td>\n",
              "    </tr>\n",
              "    <tr>\n",
              "      <th>2</th>\n",
              "      <td>1963-03-01</td>\n",
              "      <td>7084</td>\n",
              "      <td>6178.0</td>\n",
              "    </tr>\n",
              "    <tr>\n",
              "      <th>3</th>\n",
              "      <td>1963-04-01</td>\n",
              "      <td>8162</td>\n",
              "      <td>7084.0</td>\n",
              "    </tr>\n",
              "    <tr>\n",
              "      <th>4</th>\n",
              "      <td>1963-05-01</td>\n",
              "      <td>8462</td>\n",
              "      <td>8162.0</td>\n",
              "    </tr>\n",
              "  </tbody>\n",
              "</table>\n",
              "</div>"
            ],
            "text/plain": [
              "       Month  MilesMM    lag1\n",
              "0 1963-01-01     6827     NaN\n",
              "1 1963-02-01     6178  6827.0\n",
              "2 1963-03-01     7084  6178.0\n",
              "3 1963-04-01     8162  7084.0\n",
              "4 1963-05-01     8462  8162.0"
            ]
          },
          "metadata": {
            "tags": []
          },
          "execution_count": 96
        }
      ]
    },
    {
      "cell_type": "code",
      "metadata": {
        "id": "NcriKUWa_-Wn",
        "colab_type": "code",
        "colab": {}
      },
      "source": [
        "miles_df['MilesMM_diff_1']=miles_df['MilesMM'].diff(periods=1)"
      ],
      "execution_count": 0,
      "outputs": []
    },
    {
      "cell_type": "code",
      "metadata": {
        "id": "-YGyn077BJup",
        "colab_type": "code",
        "colab": {
          "base_uri": "https://localhost:8080/",
          "height": 195
        },
        "outputId": "3c9a5509-943f-4fcd-c2d5-1a4c4aa0c1a4"
      },
      "source": [
        "miles_df.head()"
      ],
      "execution_count": 104,
      "outputs": [
        {
          "output_type": "execute_result",
          "data": {
            "text/html": [
              "<div>\n",
              "<style scoped>\n",
              "    .dataframe tbody tr th:only-of-type {\n",
              "        vertical-align: middle;\n",
              "    }\n",
              "\n",
              "    .dataframe tbody tr th {\n",
              "        vertical-align: top;\n",
              "    }\n",
              "\n",
              "    .dataframe thead th {\n",
              "        text-align: right;\n",
              "    }\n",
              "</style>\n",
              "<table border=\"1\" class=\"dataframe\">\n",
              "  <thead>\n",
              "    <tr style=\"text-align: right;\">\n",
              "      <th></th>\n",
              "      <th>Month</th>\n",
              "      <th>MilesMM</th>\n",
              "      <th>lag1</th>\n",
              "      <th>MilesMM_diff_1</th>\n",
              "    </tr>\n",
              "  </thead>\n",
              "  <tbody>\n",
              "    <tr>\n",
              "      <th>0</th>\n",
              "      <td>1963-01-01</td>\n",
              "      <td>6827</td>\n",
              "      <td>NaN</td>\n",
              "      <td>NaN</td>\n",
              "    </tr>\n",
              "    <tr>\n",
              "      <th>1</th>\n",
              "      <td>1963-02-01</td>\n",
              "      <td>6178</td>\n",
              "      <td>6827.0</td>\n",
              "      <td>-649.0</td>\n",
              "    </tr>\n",
              "    <tr>\n",
              "      <th>2</th>\n",
              "      <td>1963-03-01</td>\n",
              "      <td>7084</td>\n",
              "      <td>6178.0</td>\n",
              "      <td>906.0</td>\n",
              "    </tr>\n",
              "    <tr>\n",
              "      <th>3</th>\n",
              "      <td>1963-04-01</td>\n",
              "      <td>8162</td>\n",
              "      <td>7084.0</td>\n",
              "      <td>1078.0</td>\n",
              "    </tr>\n",
              "    <tr>\n",
              "      <th>4</th>\n",
              "      <td>1963-05-01</td>\n",
              "      <td>8462</td>\n",
              "      <td>8162.0</td>\n",
              "      <td>300.0</td>\n",
              "    </tr>\n",
              "  </tbody>\n",
              "</table>\n",
              "</div>"
            ],
            "text/plain": [
              "       Month  MilesMM    lag1  MilesMM_diff_1\n",
              "0 1963-01-01     6827     NaN             NaN\n",
              "1 1963-02-01     6178  6827.0          -649.0\n",
              "2 1963-03-01     7084  6178.0           906.0\n",
              "3 1963-04-01     8162  7084.0          1078.0\n",
              "4 1963-05-01     8462  8162.0           300.0"
            ]
          },
          "metadata": {
            "tags": []
          },
          "execution_count": 104
        }
      ]
    },
    {
      "cell_type": "code",
      "metadata": {
        "colab_type": "code",
        "id": "FITxDpZGBykY",
        "colab": {
          "base_uri": "https://localhost:8080/",
          "height": 577
        },
        "outputId": "4c2d9288-691b-4a9e-c5a5-0209473cd223"
      },
      "source": [
        "miles_df.index=miles_df['Month']\n",
        "result_a=seasonal_decompose(miles_df['MilesMM'],model='additive')\n",
        "result_a.plot()"
      ],
      "execution_count": 108,
      "outputs": [
        {
          "output_type": "execute_result",
          "data": {
            "image/png": "[encoded data removed]",
            "text/plain": [
              "<Figure size 432x288 with 4 Axes>"
            ]
          },
          "metadata": {
            "tags": []
          },
          "execution_count": 108
        },
        {
          "output_type": "display_data",
          "data": {
            "image/png": "[encoded data removed]",
            "text/plain": [
              "<Figure size 432x288 with 4 Axes>"
            ]
          },
          "metadata": {
            "tags": [],
            "needs_background": "light"
          }
        }
      ]
    },
    {
      "cell_type": "code",
      "metadata": {
        "id": "oKzD3whACYti",
        "colab_type": "code",
        "colab": {
          "base_uri": "https://localhost:8080/",
          "height": 579
        },
        "outputId": "685a5099-b70b-4070-b9be-3f36f84597e7"
      },
      "source": [
        "miles_df.index=miles_df['Month']\n",
        "result_b=seasonal_decompose(miles_df.iloc[1:,3],model='additive')\n",
        "result_b.plot()"
      ],
      "execution_count": 109,
      "outputs": [
        {
          "output_type": "execute_result",
          "data": {
            "image/png": "[encoded data removed]",
            "text/plain": [
              "<Figure size 432x288 with 4 Axes>"
            ]
          },
          "metadata": {
            "tags": []
          },
          "execution_count": 109
        },
        {
          "output_type": "display_data",
          "data": {
            "image/png": "[encoded data removed]",
            "text/plain": [
              "<Figure size 432x288 with 4 Axes>"
            ]
          },
          "metadata": {
            "tags": [],
            "needs_background": "light"
          }
        }
      ]
    },
    {
      "cell_type": "code",
      "metadata": {
        "id": "IO9AgIULDJR2",
        "colab_type": "code",
        "colab": {
          "base_uri": "https://localhost:8080/",
          "height": 297
        },
        "outputId": "fcb91d3a-db49-433b-81d4-5fad6fd76a5f"
      },
      "source": [
        "miles_df['MilesMM'].plot()"
      ],
      "execution_count": 111,
      "outputs": [
        {
          "output_type": "execute_result",
          "data": {
            "text/plain": [
              "<matplotlib.axes._subplots.AxesSubplot at 0x7fafa3474978>"
            ]
          },
          "metadata": {
            "tags": []
          },
          "execution_count": 111
        },
        {
          "output_type": "display_data",
          "data": {
            "image/png": "[encoded data removed]",
            "text/plain": [
              "<Figure size 432x288 with 1 Axes>"
            ]
          },
          "metadata": {
            "tags": [],
            "needs_background": "light"
          }
        }
      ]
    },
    {
      "cell_type": "code",
      "metadata": {
        "id": "vE6qR9w4DPoT",
        "colab_type": "code",
        "colab": {
          "base_uri": "https://localhost:8080/",
          "height": 300
        },
        "outputId": "b3fb4b04-c6b2-48c9-9c33-dc133ccb9ef4"
      },
      "source": [
        "miles_df['MilesMM_diff_1'].plot()"
      ],
      "execution_count": 112,
      "outputs": [
        {
          "output_type": "execute_result",
          "data": {
            "text/plain": [
              "<matplotlib.axes._subplots.AxesSubplot at 0x7fafa28d09e8>"
            ]
          },
          "metadata": {
            "tags": []
          },
          "execution_count": 112
        },
        {
          "output_type": "display_data",
          "data": {
            "image/png": "[encoded data removed]",
            "text/plain": [
              "<Figure size 432x288 with 1 Axes>"
            ]
          },
          "metadata": {
            "tags": [],
            "needs_background": "light"
          }
        }
      ]
    }
  ]
}